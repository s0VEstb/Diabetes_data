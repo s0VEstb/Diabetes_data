{
 "nbformat": 4,
 "nbformat_minor": 0,
 "metadata": {
  "colab": {
   "provenance": []
  },
  "kernelspec": {
   "name": "python3",
   "language": "python",
   "display_name": "Python 3 (ipykernel)"
  },
  "language_info": {
   "name": "python"
  }
 },
 "cells": [
  {
   "cell_type": "markdown",
   "source": [
    "# Исследовательский анализ данных (EDA) набора данных по прогнозированию диабета\n",
    "\n",
    "**Цель**: В этом задании вам предстоит использовать библиотеки Pandas, Matplotlib и Seaborn на Python для проведения исследовательского анализа данных набора данных по прогнозированию диабета. Данный набор данных содержит медицинские и демографические данные пациентов, а также информацию о наличии у них диабета (положительный или отрицательный статус).\n",
    "\n",
    "Для каждой из колонок в вашем наборе данных описаны следующие анализы:\n",
    "1. '`gender`': Это категориальная переменная, которая обозначает пол пациента. `Female` - женский пол, `Male` - мужской пол\n",
    "\n",
    "2. '`age`': Это числовая переменная, обозначающая возраст пациента.\n",
    "\n",
    "3. '`hypertension`': Это категориальная переменная, показывающая, есть ли у пациента гипертония (значение `1` если есть) или нет (значение `0` если нет).\n",
    "\n",
    "4. '`heart_disease`': Это категориальная переменная, обозначающая наличие (значение `1` если есть) или отсутствие (значение `0` если нет) сердечного заболевания у пациента.\n",
    "\n",
    "5. '`smoking_history`': Это категориальная переменная, обозначающая историю курения пациента. Вот как можно интерпретировать каждое из её значений:\n",
    "\n",
    "    * No Info: Информация о курении пациента отсутствует или не была собрана.\n",
    "\n",
    "    * Never: Пациент никогда не курил.\n",
    "\n",
    "    * Former: Пациент ранее курил, но в настоящее время бросил.\n",
    "\n",
    "    * Current: Пациент в настоящее время курит.\n",
    "\n",
    "    * Not Current: Пациент в настоящее время не курит, но в данных не указано, курил ли он ранее.\n",
    "\n",
    "    * Ever: Пациент когда-либо курил в прошлом, но не указано, продолжает ли он курить сейчас.\n",
    "\n",
    "6. '`bmi`': Это числовая переменная, обозначающая индекс массы тела (BMI) пациента.\n",
    "\n",
    "7. '`HbA1c_level`': Это числовая переменная, обозначающая уровень HbA1c (гликированного гемоглобина) в крови пациента.\n",
    "\n",
    "8. '`blood_glucose_level`': Это числовая переменная, обозначающая уровень глюкозы в крови пациента.\n",
    "\n",
    "9. '`diabetes`': Это категориальная переменная, обозначающая наличие (значение `1` если есть) или отсутствие (значение `0` если нет) диабета у пациента.\n",
    "\n",
    "# **Примечание** по сохранению файла с набором данных\n",
    "\n",
    "* Локально:\n",
    "\n",
    "    Если вы работаете локально, то убедитесь, что файл `diabetes_hw6_dataset.csv` находится в той же директории, что и ваш Jupyter notebook или Python скрипт. В противном случае, вам нужно будет указать полный путь к файлу при его загрузке.\n",
    "* Google Colab:\n",
    "    \n",
    "    Если вы используете Google Colab, вам потребуется загрузить файл с набором данных в ваш Google Drive и указать полный путь к файлу как было показано в примере на уроке 12.\n",
    "\n",
    "# **Примечание** о структуре вашего ноутбука:\n",
    "\n",
    "Помните, что вы не ограничены одной ячейкой кода для каждой подзадачи. Если вам удобнее разбить код решения одной подзадачи на несколько ячеек, смело делайте это.\n",
    "\n",
    "Например, вы можете выбрать отдельную ячейку для вычислений и еще одну ячейку для вывода результатов или визуализаций. Это может упростить чтение и отладку вашего кода.\n",
    "\n",
    "Основное - чтобы каждая из подзадач была четко выделена и идентифицируема. Для этого используйте текстовые ячейки для пояснения того, что делает каждая часть кода, и комментарии внутри ячеек кода, где это необходимо."
   ],
   "metadata": {
    "id": "EirWzhhJWble"
   }
  },
  {
   "cell_type": "markdown",
   "source": [
    "# Задание 1: Импорт необходимых библиотек\n",
    "\n",
    "Перед началом анализа вам необходимо импортировать необходимые библиотеки (`pandas`, `matplotlib.pyplot`, `seaborn`)."
   ],
   "metadata": {
    "id": "balz6hO6t9Jr"
   }
  },
  {
   "cell_type": "code",
   "source": [
    "import pandas as pd\n",
    "import matplotlib.pyplot as plt\n",
    "import seaborn as sns\n",
    "import numpy as np"
   ],
   "metadata": {
    "id": "IcGt-MTouLHu",
    "ExecuteTime": {
     "end_time": "2024-08-03T19:43:33.663028Z",
     "start_time": "2024-08-03T19:43:33.658560Z"
    }
   },
   "execution_count": 384,
   "outputs": []
  },
  {
   "cell_type": "markdown",
   "source": [
    "# Задание 2: Загрузка набора данных\n",
    "\n",
    "Загрузите набор данных о диабете в переменную, используя `pandas`. Убедитесь, что ваш набор данных находится в правильном месте."
   ],
   "metadata": {
    "id": "oBLoDxNZumda"
   }
  },
  {
   "cell_type": "code",
   "source": [
    "df = pd.read_csv('diabetes_hw6_dataset.csv')\n"
   ],
   "metadata": {
    "id": "gwwn6NtLu4ZQ",
    "ExecuteTime": {
     "end_time": "2024-08-03T19:43:33.849273Z",
     "start_time": "2024-08-03T19:43:33.841957Z"
    }
   },
   "execution_count": 385,
   "outputs": []
  },
  {
   "cell_type": "markdown",
   "source": [
    "# Задание 3: Первоначальный анализ данных\n",
    "\n",
    "Ваша задача - изучить начало набора данных. Взгляните на несколько первых записей в датасете. Это даст вам представление о структуре данных и типах значений, которые вы увидите в каждом столбце.\n",
    "\n",
    "Ожидаемый результат: Вывод первых 10 строк вашего DataFrame."
   ],
   "metadata": {
    "id": "yefOw--lvFCO"
   }
  },
  {
   "cell_type": "code",
   "source": [
    "df.head(10)\n"
   ],
   "metadata": {
    "id": "6FGyLGFQwv2X",
    "ExecuteTime": {
     "end_time": "2024-08-03T19:43:33.856608Z",
     "start_time": "2024-08-03T19:43:33.850156Z"
    }
   },
   "execution_count": 386,
   "outputs": [
    {
     "data": {
      "text/plain": "   gender   age  hypertension  heart_disease smoking_history    bmi  \\\n0  Female  16.0             0              0         No Info  15.43   \n1    Male   4.0             0              0           never  27.32   \n2    Male  62.0             0              0          former  26.60   \n3    Male  20.0             0              0         No Info  33.13   \n4    Male  70.0             0              0         No Info  27.32   \n5  Female  73.0             0              0     not current  19.00   \n6    Male  71.0             0              0         current  29.14   \n7    Male  61.0             0              0         No Info  24.64   \n8    Male  48.0             0              0         No Info  30.23   \n9    Male  17.0             0              0         No Info  27.32   \n\n   HbA1c_level  blood_glucose_level  diabetes  \n0          6.5                  145         0  \n1          4.0                  130         0  \n2          3.5                  126         0  \n3          6.5                  200         0  \n4          5.0                  158         0  \n5          6.2                  158         0  \n6          6.6                  126         0  \n7          5.0                  160         0  \n8          6.6                   90         0  \n9          5.0                  160         0  ",
      "text/html": "<div>\n<style scoped>\n    .dataframe tbody tr th:only-of-type {\n        vertical-align: middle;\n    }\n\n    .dataframe tbody tr th {\n        vertical-align: top;\n    }\n\n    .dataframe thead th {\n        text-align: right;\n    }\n</style>\n<table border=\"1\" class=\"dataframe\">\n  <thead>\n    <tr style=\"text-align: right;\">\n      <th></th>\n      <th>gender</th>\n      <th>age</th>\n      <th>hypertension</th>\n      <th>heart_disease</th>\n      <th>smoking_history</th>\n      <th>bmi</th>\n      <th>HbA1c_level</th>\n      <th>blood_glucose_level</th>\n      <th>diabetes</th>\n    </tr>\n  </thead>\n  <tbody>\n    <tr>\n      <th>0</th>\n      <td>Female</td>\n      <td>16.0</td>\n      <td>0</td>\n      <td>0</td>\n      <td>No Info</td>\n      <td>15.43</td>\n      <td>6.5</td>\n      <td>145</td>\n      <td>0</td>\n    </tr>\n    <tr>\n      <th>1</th>\n      <td>Male</td>\n      <td>4.0</td>\n      <td>0</td>\n      <td>0</td>\n      <td>never</td>\n      <td>27.32</td>\n      <td>4.0</td>\n      <td>130</td>\n      <td>0</td>\n    </tr>\n    <tr>\n      <th>2</th>\n      <td>Male</td>\n      <td>62.0</td>\n      <td>0</td>\n      <td>0</td>\n      <td>former</td>\n      <td>26.60</td>\n      <td>3.5</td>\n      <td>126</td>\n      <td>0</td>\n    </tr>\n    <tr>\n      <th>3</th>\n      <td>Male</td>\n      <td>20.0</td>\n      <td>0</td>\n      <td>0</td>\n      <td>No Info</td>\n      <td>33.13</td>\n      <td>6.5</td>\n      <td>200</td>\n      <td>0</td>\n    </tr>\n    <tr>\n      <th>4</th>\n      <td>Male</td>\n      <td>70.0</td>\n      <td>0</td>\n      <td>0</td>\n      <td>No Info</td>\n      <td>27.32</td>\n      <td>5.0</td>\n      <td>158</td>\n      <td>0</td>\n    </tr>\n    <tr>\n      <th>5</th>\n      <td>Female</td>\n      <td>73.0</td>\n      <td>0</td>\n      <td>0</td>\n      <td>not current</td>\n      <td>19.00</td>\n      <td>6.2</td>\n      <td>158</td>\n      <td>0</td>\n    </tr>\n    <tr>\n      <th>6</th>\n      <td>Male</td>\n      <td>71.0</td>\n      <td>0</td>\n      <td>0</td>\n      <td>current</td>\n      <td>29.14</td>\n      <td>6.6</td>\n      <td>126</td>\n      <td>0</td>\n    </tr>\n    <tr>\n      <th>7</th>\n      <td>Male</td>\n      <td>61.0</td>\n      <td>0</td>\n      <td>0</td>\n      <td>No Info</td>\n      <td>24.64</td>\n      <td>5.0</td>\n      <td>160</td>\n      <td>0</td>\n    </tr>\n    <tr>\n      <th>8</th>\n      <td>Male</td>\n      <td>48.0</td>\n      <td>0</td>\n      <td>0</td>\n      <td>No Info</td>\n      <td>30.23</td>\n      <td>6.6</td>\n      <td>90</td>\n      <td>0</td>\n    </tr>\n    <tr>\n      <th>9</th>\n      <td>Male</td>\n      <td>17.0</td>\n      <td>0</td>\n      <td>0</td>\n      <td>No Info</td>\n      <td>27.32</td>\n      <td>5.0</td>\n      <td>160</td>\n      <td>0</td>\n    </tr>\n  </tbody>\n</table>\n</div>"
     },
     "execution_count": 386,
     "metadata": {},
     "output_type": "execute_result"
    }
   ]
  },
  {
   "cell_type": "markdown",
   "source": [
    "Теперь посмотрите на конец вашего набора данных. Это позволит увидеть, есть ли какие-либо очевидные отличия или проблемы в последних записях.\n",
    "\n",
    "Ожидаемый результат: Вывод последних 10 строк вашего DataFrame."
   ],
   "metadata": {
    "id": "QMLO4nbPwwXF"
   }
  },
  {
   "cell_type": "code",
   "source": [
    "df.tail(10)\n"
   ],
   "metadata": {
    "id": "zN0V7rvRw5wU",
    "ExecuteTime": {
     "end_time": "2024-08-03T19:43:33.867263Z",
     "start_time": "2024-08-03T19:43:33.861635Z"
    }
   },
   "execution_count": 387,
   "outputs": [
    {
     "data": {
      "text/plain": "      gender   age  hypertension  heart_disease smoking_history    bmi  \\\n1604  Female  51.0             0              0           never  45.79   \n1605  Female  71.0             0              0         No Info  27.32   \n1606    Male  64.0             0              0         current  29.77   \n1607    Male  79.0             0              0           never  33.72   \n1608  Female  80.0             0              0     not current  36.04   \n1609  Female  60.0             0              1          former  26.63   \n1610  Female  44.0             0              1         current  34.35   \n1611  Female  41.0             0              0           never  30.80   \n1612  Female  71.0             1              0           never  62.80   \n1613    Male  80.0             0              0     not current  20.97   \n\n      HbA1c_level  blood_glucose_level  diabetes  \n1604          6.0                  130         1  \n1605          6.1                  155         1  \n1606          6.0                  200         1  \n1607          7.5                  260         1  \n1608          8.8                  260         1  \n1609          7.5                  160         1  \n1610          6.6                  140         1  \n1611          6.1                  300         1  \n1612          8.2                  155         1  \n1613          9.0                  240         1  ",
      "text/html": "<div>\n<style scoped>\n    .dataframe tbody tr th:only-of-type {\n        vertical-align: middle;\n    }\n\n    .dataframe tbody tr th {\n        vertical-align: top;\n    }\n\n    .dataframe thead th {\n        text-align: right;\n    }\n</style>\n<table border=\"1\" class=\"dataframe\">\n  <thead>\n    <tr style=\"text-align: right;\">\n      <th></th>\n      <th>gender</th>\n      <th>age</th>\n      <th>hypertension</th>\n      <th>heart_disease</th>\n      <th>smoking_history</th>\n      <th>bmi</th>\n      <th>HbA1c_level</th>\n      <th>blood_glucose_level</th>\n      <th>diabetes</th>\n    </tr>\n  </thead>\n  <tbody>\n    <tr>\n      <th>1604</th>\n      <td>Female</td>\n      <td>51.0</td>\n      <td>0</td>\n      <td>0</td>\n      <td>never</td>\n      <td>45.79</td>\n      <td>6.0</td>\n      <td>130</td>\n      <td>1</td>\n    </tr>\n    <tr>\n      <th>1605</th>\n      <td>Female</td>\n      <td>71.0</td>\n      <td>0</td>\n      <td>0</td>\n      <td>No Info</td>\n      <td>27.32</td>\n      <td>6.1</td>\n      <td>155</td>\n      <td>1</td>\n    </tr>\n    <tr>\n      <th>1606</th>\n      <td>Male</td>\n      <td>64.0</td>\n      <td>0</td>\n      <td>0</td>\n      <td>current</td>\n      <td>29.77</td>\n      <td>6.0</td>\n      <td>200</td>\n      <td>1</td>\n    </tr>\n    <tr>\n      <th>1607</th>\n      <td>Male</td>\n      <td>79.0</td>\n      <td>0</td>\n      <td>0</td>\n      <td>never</td>\n      <td>33.72</td>\n      <td>7.5</td>\n      <td>260</td>\n      <td>1</td>\n    </tr>\n    <tr>\n      <th>1608</th>\n      <td>Female</td>\n      <td>80.0</td>\n      <td>0</td>\n      <td>0</td>\n      <td>not current</td>\n      <td>36.04</td>\n      <td>8.8</td>\n      <td>260</td>\n      <td>1</td>\n    </tr>\n    <tr>\n      <th>1609</th>\n      <td>Female</td>\n      <td>60.0</td>\n      <td>0</td>\n      <td>1</td>\n      <td>former</td>\n      <td>26.63</td>\n      <td>7.5</td>\n      <td>160</td>\n      <td>1</td>\n    </tr>\n    <tr>\n      <th>1610</th>\n      <td>Female</td>\n      <td>44.0</td>\n      <td>0</td>\n      <td>1</td>\n      <td>current</td>\n      <td>34.35</td>\n      <td>6.6</td>\n      <td>140</td>\n      <td>1</td>\n    </tr>\n    <tr>\n      <th>1611</th>\n      <td>Female</td>\n      <td>41.0</td>\n      <td>0</td>\n      <td>0</td>\n      <td>never</td>\n      <td>30.80</td>\n      <td>6.1</td>\n      <td>300</td>\n      <td>1</td>\n    </tr>\n    <tr>\n      <th>1612</th>\n      <td>Female</td>\n      <td>71.0</td>\n      <td>1</td>\n      <td>0</td>\n      <td>never</td>\n      <td>62.80</td>\n      <td>8.2</td>\n      <td>155</td>\n      <td>1</td>\n    </tr>\n    <tr>\n      <th>1613</th>\n      <td>Male</td>\n      <td>80.0</td>\n      <td>0</td>\n      <td>0</td>\n      <td>not current</td>\n      <td>20.97</td>\n      <td>9.0</td>\n      <td>240</td>\n      <td>1</td>\n    </tr>\n  </tbody>\n</table>\n</div>"
     },
     "execution_count": 387,
     "metadata": {},
     "output_type": "execute_result"
    }
   ]
  },
  {
   "cell_type": "markdown",
   "source": [
    "Следующий шаг - получить общую статистику по числовым столбцам в вашем DataFrame. Это поможет вам понять распределение значений в этих столбцах.\n",
    "\n",
    "Ожидаемый результат: Статистический обзор числовых столбцов, включая среднее, минимум, максимум, стандартное отклонение и квартили."
   ],
   "metadata": {
    "id": "wz8RTi7Uw-z4"
   }
  },
  {
   "cell_type": "code",
   "source": [
    "df.describe()\n"
   ],
   "metadata": {
    "id": "tnT4iHSmw_W-",
    "ExecuteTime": {
     "end_time": "2024-08-03T19:43:33.918189Z",
     "start_time": "2024-08-03T19:43:33.908930Z"
    }
   },
   "execution_count": 388,
   "outputs": [
    {
     "data": {
      "text/plain": "               age  hypertension  heart_disease          bmi  HbA1c_level  \\\ncount  1614.000000   1614.000000    1614.000000  1562.000000  1566.000000   \nmean     48.474176      0.132590       0.074349    28.893438     5.912005   \nstd      21.550856      0.339236       0.262420     7.227397     1.315577   \nmin       0.160000      0.000000       0.000000    10.980000     3.500000   \n25%      33.000000      0.000000       0.000000    25.235000     5.000000   \n50%      52.000000      0.000000       0.000000    27.320000     6.000000   \n75%      65.000000      0.000000       0.000000    32.225000     6.600000   \nmax      80.000000      1.000000       1.000000    64.730000     9.000000   \n\n       blood_glucose_level     diabetes  \ncount          1614.000000  1614.000000  \nmean            152.859356     0.365551  \nstd              53.028429     0.481734  \nmin              80.000000     0.000000  \n25%             126.000000     0.000000  \n50%             145.000000     0.000000  \n75%             160.000000     1.000000  \nmax             300.000000     1.000000  ",
      "text/html": "<div>\n<style scoped>\n    .dataframe tbody tr th:only-of-type {\n        vertical-align: middle;\n    }\n\n    .dataframe tbody tr th {\n        vertical-align: top;\n    }\n\n    .dataframe thead th {\n        text-align: right;\n    }\n</style>\n<table border=\"1\" class=\"dataframe\">\n  <thead>\n    <tr style=\"text-align: right;\">\n      <th></th>\n      <th>age</th>\n      <th>hypertension</th>\n      <th>heart_disease</th>\n      <th>bmi</th>\n      <th>HbA1c_level</th>\n      <th>blood_glucose_level</th>\n      <th>diabetes</th>\n    </tr>\n  </thead>\n  <tbody>\n    <tr>\n      <th>count</th>\n      <td>1614.000000</td>\n      <td>1614.000000</td>\n      <td>1614.000000</td>\n      <td>1562.000000</td>\n      <td>1566.000000</td>\n      <td>1614.000000</td>\n      <td>1614.000000</td>\n    </tr>\n    <tr>\n      <th>mean</th>\n      <td>48.474176</td>\n      <td>0.132590</td>\n      <td>0.074349</td>\n      <td>28.893438</td>\n      <td>5.912005</td>\n      <td>152.859356</td>\n      <td>0.365551</td>\n    </tr>\n    <tr>\n      <th>std</th>\n      <td>21.550856</td>\n      <td>0.339236</td>\n      <td>0.262420</td>\n      <td>7.227397</td>\n      <td>1.315577</td>\n      <td>53.028429</td>\n      <td>0.481734</td>\n    </tr>\n    <tr>\n      <th>min</th>\n      <td>0.160000</td>\n      <td>0.000000</td>\n      <td>0.000000</td>\n      <td>10.980000</td>\n      <td>3.500000</td>\n      <td>80.000000</td>\n      <td>0.000000</td>\n    </tr>\n    <tr>\n      <th>25%</th>\n      <td>33.000000</td>\n      <td>0.000000</td>\n      <td>0.000000</td>\n      <td>25.235000</td>\n      <td>5.000000</td>\n      <td>126.000000</td>\n      <td>0.000000</td>\n    </tr>\n    <tr>\n      <th>50%</th>\n      <td>52.000000</td>\n      <td>0.000000</td>\n      <td>0.000000</td>\n      <td>27.320000</td>\n      <td>6.000000</td>\n      <td>145.000000</td>\n      <td>0.000000</td>\n    </tr>\n    <tr>\n      <th>75%</th>\n      <td>65.000000</td>\n      <td>0.000000</td>\n      <td>0.000000</td>\n      <td>32.225000</td>\n      <td>6.600000</td>\n      <td>160.000000</td>\n      <td>1.000000</td>\n    </tr>\n    <tr>\n      <th>max</th>\n      <td>80.000000</td>\n      <td>1.000000</td>\n      <td>1.000000</td>\n      <td>64.730000</td>\n      <td>9.000000</td>\n      <td>300.000000</td>\n      <td>1.000000</td>\n    </tr>\n  </tbody>\n</table>\n</div>"
     },
     "execution_count": 388,
     "metadata": {},
     "output_type": "execute_result"
    }
   ]
  },
  {
   "cell_type": "markdown",
   "source": [
    "Получите общую информацию о вашем DataFrame. Это включает количество ненулевых значений и типы данных для каждого столбца. Это поможет вам понять, какие данные вы имеете, и сколько информации доступно.\n",
    "\n",
    "Ожидаемый результат: Общая информация о DataFrame, включая количество ненулевых значений и типы данных для каждого столбца."
   ],
   "metadata": {
    "id": "PCi3XSeDxB4w"
   }
  },
  {
   "cell_type": "code",
   "source": [
    "df.info()\n"
   ],
   "metadata": {
    "id": "_z5n7SkzxG4B",
    "ExecuteTime": {
     "end_time": "2024-08-03T19:43:33.965007Z",
     "start_time": "2024-08-03T19:43:33.959735Z"
    }
   },
   "execution_count": 389,
   "outputs": [
    {
     "name": "stdout",
     "output_type": "stream",
     "text": [
      "<class 'pandas.core.frame.DataFrame'>\n",
      "RangeIndex: 1614 entries, 0 to 1613\n",
      "Data columns (total 9 columns):\n",
      " #   Column               Non-Null Count  Dtype  \n",
      "---  ------               --------------  -----  \n",
      " 0   gender               1614 non-null   object \n",
      " 1   age                  1614 non-null   float64\n",
      " 2   hypertension         1614 non-null   int64  \n",
      " 3   heart_disease        1614 non-null   int64  \n",
      " 4   smoking_history      1614 non-null   object \n",
      " 5   bmi                  1562 non-null   float64\n",
      " 6   HbA1c_level          1566 non-null   float64\n",
      " 7   blood_glucose_level  1614 non-null   int64  \n",
      " 8   diabetes             1614 non-null   int64  \n",
      "dtypes: float64(3), int64(4), object(2)\n",
      "memory usage: 113.6+ KB\n"
     ]
    }
   ]
  },
  {
   "cell_type": "markdown",
   "source": [
    "Найдите количество пропущенных значений в каждом столбце вашего DataFrame. Это важная информация, которую следует знать перед тем, как приступать к дальнейшему анализу данных.\n",
    "\n",
    "Ожидаемый результат: Количество пропущенных значений в каждом столбце."
   ],
   "metadata": {
    "id": "hC97qLVvxG__"
   }
  },
  {
   "cell_type": "code",
   "source": [
    "df.isnull().sum()\n"
   ],
   "metadata": {
    "id": "xalovEH1xJVD",
    "ExecuteTime": {
     "end_time": "2024-08-03T19:43:34.048251Z",
     "start_time": "2024-08-03T19:43:34.044776Z"
    }
   },
   "execution_count": 390,
   "outputs": [
    {
     "data": {
      "text/plain": "gender                  0\nage                     0\nhypertension            0\nheart_disease           0\nsmoking_history         0\nbmi                    52\nHbA1c_level            48\nblood_glucose_level     0\ndiabetes                0\ndtype: int64"
     },
     "execution_count": 390,
     "metadata": {},
     "output_type": "execute_result"
    }
   ]
  },
  {
   "cell_type": "markdown",
   "source": [
    "# Задача 4: Проверка и удаление дубликатов\n",
    "\n",
    "Ваша задача - проверить, есть ли в вашем наборе данных дубликаты строк, и удалить их при необходимости. Дубликаты могут исказить результаты вашего анализа, поскольку они приводят к переоценке некоторых классов или групп."
   ],
   "metadata": {
    "id": "ikP4Ti67x1WN"
   }
  },
  {
   "cell_type": "markdown",
   "source": [
    "Сначала вы должны определить, сколько дубликатов содержится в вашем DataFrame. Используйте функцию `.duplicated().sum()`"
   ],
   "metadata": {
    "id": "AosNGFIwyI9s"
   }
  },
  {
   "cell_type": "code",
   "source": [
    "df.duplicated().sum() "
   ],
   "metadata": {
    "id": "VLzHYrANyJV2",
    "ExecuteTime": {
     "end_time": "2024-08-03T19:43:34.122018Z",
     "start_time": "2024-08-03T19:43:34.118274Z"
    }
   },
   "execution_count": 391,
   "outputs": [
    {
     "data": {
      "text/plain": "103"
     },
     "execution_count": 391,
     "metadata": {},
     "output_type": "execute_result"
    }
   ]
  },
  {
   "cell_type": "markdown",
   "source": [
    "Если дубликаты найдены, удалите их, и затем проверьте, были ли все дубликаты успешно удалены."
   ],
   "metadata": {
    "id": "qYkS2gDwyKkH"
   }
  },
  {
   "cell_type": "code",
   "source": [
    "df = df.drop_duplicates()"
   ],
   "metadata": {
    "id": "de4Dg17uyT80",
    "ExecuteTime": {
     "end_time": "2024-08-03T19:43:34.212613Z",
     "start_time": "2024-08-03T19:43:34.207200Z"
    }
   },
   "execution_count": 392,
   "outputs": []
  },
  {
   "cell_type": "markdown",
   "source": [
    "# Задача 5: Импутация пропусков\n",
    "\n",
    "Ваши данные могут содержать пропуски, которые важно корректно обработать перед дальнейшим анализом. Ваша задача - выполнить импутацию пропущенных значений."
   ],
   "metadata": {
    "id": "t5jBIJgiy-gj"
   }
  },
  {
   "cell_type": "markdown",
   "source": [
    "Сначала определите, в каких столбцах есть пропущенные значения, и сколько их.\n",
    "\n",
    "Ожидаемый результат: Список столбцов с пропущенными значениями и количество пропусков в каждом из них."
   ],
   "metadata": {
    "id": "0ghA0oFNzBp2"
   }
  },
  {
   "cell_type": "code",
   "source": [
    "df.info()"
   ],
   "metadata": {
    "id": "9wg9YTqlzIWH",
    "ExecuteTime": {
     "end_time": "2024-08-03T19:43:34.380281Z",
     "start_time": "2024-08-03T19:43:34.372700Z"
    }
   },
   "execution_count": 393,
   "outputs": [
    {
     "name": "stdout",
     "output_type": "stream",
     "text": [
      "<class 'pandas.core.frame.DataFrame'>\n",
      "Index: 1511 entries, 0 to 1613\n",
      "Data columns (total 9 columns):\n",
      " #   Column               Non-Null Count  Dtype  \n",
      "---  ------               --------------  -----  \n",
      " 0   gender               1511 non-null   object \n",
      " 1   age                  1511 non-null   float64\n",
      " 2   hypertension         1511 non-null   int64  \n",
      " 3   heart_disease        1511 non-null   int64  \n",
      " 4   smoking_history      1511 non-null   object \n",
      " 5   bmi                  1459 non-null   float64\n",
      " 6   HbA1c_level          1463 non-null   float64\n",
      " 7   blood_glucose_level  1511 non-null   int64  \n",
      " 8   diabetes             1511 non-null   int64  \n",
      "dtypes: float64(3), int64(4), object(2)\n",
      "memory usage: 118.0+ KB\n"
     ]
    }
   ]
  },
  {
   "cell_type": "markdown",
   "source": [
    "Решите, какой метод импутации наиболее подходит для каждого столбца с пропусками. Ваш выбор может зависеть от типа данных (категориальные или числовые) и распределения данных. Можно использовать общее среднее значение или самое распространенное значение для всех пропущенных данных.\n",
    "\n",
    "Примените выбранные методы импутации к пропущенным значениям и подтвердите, что все пропуски были заполнены.\n",
    "\n",
    "Ожидаемый результат: DataFrame без пропущенных значений. Подтверждение того, что все пропущенные значения были заполнены.\n",
    "\n"
   ],
   "metadata": {
    "id": "Pz0YQ8D0zMno"
   }
  },
  {
   "cell_type": "code",
   "source": [],
   "metadata": {
    "id": "Xh3-9nQJzeTb",
    "ExecuteTime": {
     "end_time": "2024-08-03T19:43:34.413995Z",
     "start_time": "2024-08-03T19:43:34.410077Z"
    }
   },
   "execution_count": 393,
   "outputs": []
  },
  {
   "cell_type": "markdown",
   "source": [
    "# **Бонусное задание:** Усложнённая импутация пропусков\n",
    "\n",
    "Если вы готовы пойти дальше, примените более сложный подход к импутации. Вместо того, чтобы использовать общее среднее значение или самое распространенное значение для всех пропущенных данных, попробуйте выполнить импутацию, основываясь на гендере человека. Это может быть более точным подходом, так как распределение некоторых признаков может отличаться в зависимости от гендера.\n",
    "\n",
    "1. Изучите распределение значений в столбцах с пропусками для мужчин и женщин отдельно.\n",
    "\n",
    "2. Основываясь на этом анализе, примените подходящий метод импутации для каждого пола.\n",
    "\n",
    "3. Подтвердите, что все пропуски были заполнены.\n",
    "\n",
    "Ожидаемый результат: DataFrame без пропущенных значений. Подтверждение того, что все пропущенные значения были заполнены с учетом пола пациентов.\n"
   ],
   "metadata": {
    "id": "rpr43fIvzhVJ"
   }
  },
  {
   "cell_type": "code",
   "source": [
    "\n",
    "bmi_row = df['bmi']\n",
    "Hba1c_level_row = df['HbA1c_level']\n",
    "male_bmi_mean = df['bmi'][(df['gender'] == 'Male')].mean()\n",
    "female_bmi_mean = df['bmi'][(df['gender'] == 'Female')].mean()\n",
    "male_Hba1c_mean = df['HbA1c_level'][(df['gender'] == 'Male')].mean()\n",
    "female_Hba1c_mean = df['HbA1c_level'][(df['gender'] == 'Female')].mean()\n",
    "df.loc[df['gender'] == 'Male', 'bmi'] = df.loc[df['gender'] == 'Male', 'bmi'].fillna(male_bmi_mean)\n",
    "df.loc[df['gender'] == 'Female', 'bmi'] = df.loc[df['gender'] == 'Female', 'bmi'].fillna(female_bmi_mean)\n",
    "df.loc[df['gender'] == 'Male', 'HbA1c_level'] = df.loc[df['gender'] == 'Male', 'HbA1c_level'].fillna(male_Hba1c_mean)\n",
    "df.loc[df['gender'] == 'Female', 'HbA1c_level'] = df.loc[df['gender'] == 'Female', 'HbA1c_level'].fillna(female_Hba1c_mean)\n",
    "df.isnull().sum()\n"
   ],
   "metadata": {
    "id": "PqSN0ME9zwTa",
    "ExecuteTime": {
     "end_time": "2024-08-03T19:43:34.600760Z",
     "start_time": "2024-08-03T19:43:34.581441Z"
    }
   },
   "execution_count": 394,
   "outputs": [
    {
     "data": {
      "text/plain": "gender                 0\nage                    0\nhypertension           0\nheart_disease          0\nsmoking_history        0\nbmi                    0\nHbA1c_level            0\nblood_glucose_level    0\ndiabetes               0\ndtype: int64"
     },
     "execution_count": 394,
     "metadata": {},
     "output_type": "execute_result"
    }
   ]
  },
  {
   "cell_type": "markdown",
   "source": [
    "# Задача 6: Переименование столбца\n",
    "\n",
    "Иногда имена столбцов в наборе данных могут быть неинформативными, слишком длинными или сложными для восприятия. Ваша задача - переименовать один из столбцов для более простого и ясного понимания его содержания.\n",
    "\n",
    "1. Выберите столбец, который, по вашему мнению, следует переименовать. Подумайте, какое имя было бы более подходящим для него.\n",
    "\n",
    "2. Примените переименование к выбранному столбцу.\n",
    "\n",
    "3. Подтвердите, что изменения были успешно применены, отображая список столбцов после переименования.\n",
    "\n",
    "Ожидаемый результат: DataFrame с переименованным столбцом. Подтверждение того, что имя столбца было успешно изменено."
   ],
   "metadata": {
    "id": "mE857su00W_o"
   }
  },
  {
   "cell_type": "code",
   "source": [
    "df.rename(columns={'bmi': 'body_mass_index'}, inplace=True)\n"
   ],
   "metadata": {
    "id": "BkonXqCq0caS",
    "ExecuteTime": {
     "end_time": "2024-08-03T19:43:34.640992Z",
     "start_time": "2024-08-03T19:43:34.637750Z"
    }
   },
   "execution_count": 395,
   "outputs": []
  },
  {
   "cell_type": "markdown",
   "source": [
    "# Задача 7: Анализ категориальных данных с помощью value_counts()\n",
    "\n",
    "Категориальные данные играют важную роль в многих наборах данных. Для лучшего понимания распределения этих данных можно использовать функцию value_counts(). Ваша задача - провести такой анализ.\n",
    "\n",
    "1. Выберите категориальный столбец в вашем DataFrame для анализа.\n",
    "\n",
    "2. Используйте функцию для подсчета уникальных значений в выбранном столбце.\n",
    "\n",
    "3. Проанализируйте полученные результаты. Какие значения наиболее распространены? Существуют ли значения, которые появляются редко?\n",
    "\n",
    "Ожидаемый результат: Распределение уникальных значений выбранного категориального столбца. Анализ наиболее и наименее распространенных значений."
   ],
   "metadata": {
    "id": "Zp9GqIy11Amp"
   }
  },
  {
   "cell_type": "code",
   "source": [
    "df['body_mass_index'].value_counts()\n",
    "df['HbA1c_level'].value_counts()"
   ],
   "metadata": {
    "id": "y4-S2U-S1HoV",
    "ExecuteTime": {
     "end_time": "2024-08-03T19:43:34.660353Z",
     "start_time": "2024-08-03T19:43:34.655942Z"
    }
   },
   "execution_count": 396,
   "outputs": [
    {
     "data": {
      "text/plain": "HbA1c_level\n5.800000    129\n6.600000    118\n6.000000    113\n6.100000    109\n6.200000    107\n6.500000    106\n5.700000     99\n3.500000     91\n5.000000     89\n4.000000     86\n4.800000     84\n4.500000     70\n9.000000     52\n7.500000     49\n8.800000     46\n7.000000     42\n6.800000     40\n8.200000     33\n5.886402     32\n6.008861     16\nName: count, dtype: int64"
     },
     "execution_count": 396,
     "metadata": {},
     "output_type": "execute_result"
    }
   ]
  },
  {
   "cell_type": "markdown",
   "source": [
    "# Задача 8: Анализ корреляции между столбцами\n",
    "\n",
    "Анализ связи между различными столбцами в наборе данных может дать важные инсайты и помочь в понимании структуры данных. Ваша задача - вычислить корреляцию между столбцами.\n",
    "\n",
    "Ожидаемый результат: Матрица корреляции для столбцов в DataFrame. Анализ сильно коррелирующих и слабо коррелирующих столбцов."
   ],
   "metadata": {
    "id": "MKBQr8my1q1u"
   }
  },
  {
   "cell_type": "code",
   "source": [
    "df.corr(numeric_only=True)\n"
   ],
   "metadata": {
    "id": "OeofmwzZ1814",
    "ExecuteTime": {
     "end_time": "2024-08-03T19:43:34.695299Z",
     "start_time": "2024-08-03T19:43:34.687875Z"
    }
   },
   "execution_count": 397,
   "outputs": [
    {
     "data": {
      "text/plain": "                          age  hypertension  heart_disease  body_mass_index  \\\nage                  1.000000      0.285635       0.248650         0.285349   \nhypertension         0.285635      1.000000       0.086627         0.126392   \nheart_disease        0.248650      0.086627       1.000000         0.061387   \nbody_mass_index      0.285349      0.126392       0.061387         1.000000   \nHbA1c_level          0.273067      0.130050       0.119321         0.212933   \nblood_glucose_level  0.284069      0.131004       0.108082         0.188173   \ndiabetes             0.442480      0.260179       0.214398         0.346751   \n\n                     HbA1c_level  blood_glucose_level  diabetes  \nage                     0.273067             0.284069  0.442480  \nhypertension            0.130050             0.131004  0.260179  \nheart_disease           0.119321             0.108082  0.214398  \nbody_mass_index         0.212933             0.188173  0.346751  \nHbA1c_level             1.000000             0.339087  0.599891  \nblood_glucose_level     0.339087             1.000000  0.546597  \ndiabetes                0.599891             0.546597  1.000000  ",
      "text/html": "<div>\n<style scoped>\n    .dataframe tbody tr th:only-of-type {\n        vertical-align: middle;\n    }\n\n    .dataframe tbody tr th {\n        vertical-align: top;\n    }\n\n    .dataframe thead th {\n        text-align: right;\n    }\n</style>\n<table border=\"1\" class=\"dataframe\">\n  <thead>\n    <tr style=\"text-align: right;\">\n      <th></th>\n      <th>age</th>\n      <th>hypertension</th>\n      <th>heart_disease</th>\n      <th>body_mass_index</th>\n      <th>HbA1c_level</th>\n      <th>blood_glucose_level</th>\n      <th>diabetes</th>\n    </tr>\n  </thead>\n  <tbody>\n    <tr>\n      <th>age</th>\n      <td>1.000000</td>\n      <td>0.285635</td>\n      <td>0.248650</td>\n      <td>0.285349</td>\n      <td>0.273067</td>\n      <td>0.284069</td>\n      <td>0.442480</td>\n    </tr>\n    <tr>\n      <th>hypertension</th>\n      <td>0.285635</td>\n      <td>1.000000</td>\n      <td>0.086627</td>\n      <td>0.126392</td>\n      <td>0.130050</td>\n      <td>0.131004</td>\n      <td>0.260179</td>\n    </tr>\n    <tr>\n      <th>heart_disease</th>\n      <td>0.248650</td>\n      <td>0.086627</td>\n      <td>1.000000</td>\n      <td>0.061387</td>\n      <td>0.119321</td>\n      <td>0.108082</td>\n      <td>0.214398</td>\n    </tr>\n    <tr>\n      <th>body_mass_index</th>\n      <td>0.285349</td>\n      <td>0.126392</td>\n      <td>0.061387</td>\n      <td>1.000000</td>\n      <td>0.212933</td>\n      <td>0.188173</td>\n      <td>0.346751</td>\n    </tr>\n    <tr>\n      <th>HbA1c_level</th>\n      <td>0.273067</td>\n      <td>0.130050</td>\n      <td>0.119321</td>\n      <td>0.212933</td>\n      <td>1.000000</td>\n      <td>0.339087</td>\n      <td>0.599891</td>\n    </tr>\n    <tr>\n      <th>blood_glucose_level</th>\n      <td>0.284069</td>\n      <td>0.131004</td>\n      <td>0.108082</td>\n      <td>0.188173</td>\n      <td>0.339087</td>\n      <td>1.000000</td>\n      <td>0.546597</td>\n    </tr>\n    <tr>\n      <th>diabetes</th>\n      <td>0.442480</td>\n      <td>0.260179</td>\n      <td>0.214398</td>\n      <td>0.346751</td>\n      <td>0.599891</td>\n      <td>0.546597</td>\n      <td>1.000000</td>\n    </tr>\n  </tbody>\n</table>\n</div>"
     },
     "execution_count": 397,
     "metadata": {},
     "output_type": "execute_result"
    }
   ]
  },
  {
   "cell_type": "markdown",
   "source": [
    "# Бонусное задание: Визуализация матрицы корреляции\n",
    "\n",
    "Если вы готовы пойти дальше и графически представить свои результаты, воспользуйтесь библиотекой `seaborn` для визуализации матрицы корреляции.\n",
    "\n",
    "1. Создайте визуализацию матрицы корреляции с использованием подходящего типа графика в `seaborn`. Выберите подходящую цветовую палитру для своей визуализации.\n",
    "\n",
    "2. Проанализируйте полученный график. Ваши выводы соответствуют ли результатам численного анализа корреляции?\n",
    "\n",
    "Ожидаемый результат: График, отображающий матрицу корреляции столбцов в DataFrame. Анализ полученной визуализации."
   ],
   "metadata": {
    "id": "Ym4ywczY2BEN"
   }
  },
  {
   "cell_type": "code",
   "source": [
    "sns.heatmap(df.corr(numeric_only=True), annot=True)\n",
    "plt.show()"
   ],
   "metadata": {
    "id": "GGUa3KYy2FiI",
    "ExecuteTime": {
     "end_time": "2024-08-03T19:43:34.764606Z",
     "start_time": "2024-08-03T19:43:34.762888Z"
    }
   },
   "execution_count": 398,
   "outputs": []
  },
  {
   "cell_type": "markdown",
   "source": [
    "# Задача 9: Использование .loc и .iloc\n",
    "\n",
    "В pandas функции `.loc` и `.iloc` позволяют извлекать данные по метке или по числовому индексу. Ваша задача - попрактиковаться в использовании этих функций.\n",
    "\n",
    "1. Используйте функцию `.loc` для извлечения данных по метке. Выберите интересующий вас столбец или набор столбцов и определенные строки.\n",
    "\n",
    "2. Теперь используйте функцию `.iloc` для извлечения данных по числовому индексу. Выберите интересующий вас диапазон строк и столбцов.\n",
    "\n",
    "3. Сравните результаты извлечения данных двумя разными методами. Что изменяется, когда вы используете `.loc` вместо `.iloc` и наоборот?\n",
    "\n",
    "Ожидаемый результат: Извлеченные данные с использованием `.loc` и `.iloc`. Анализ различий между двумя методами извлечения данных."
   ],
   "metadata": {
    "id": "71sGTx4FytKC"
   }
  },
  {
   "cell_type": "code",
   "source": [
    "df.loc[0, 'smoking_history']\n",
    "df.iloc[0, 4]\n"
   ],
   "metadata": {
    "id": "I8RC2nHh2AjD",
    "ExecuteTime": {
     "end_time": "2024-08-03T19:46:56.015955Z",
     "start_time": "2024-08-03T19:46:56.007573Z"
    }
   },
   "execution_count": 423,
   "outputs": [
    {
     "data": {
      "text/plain": "'No Info'"
     },
     "execution_count": 423,
     "metadata": {},
     "output_type": "execute_result"
    }
   ]
  },
  {
   "cell_type": "markdown",
   "source": [
    "# Задача 10: Выборка данных по условию\n",
    "\n",
    "Выборка данных по определенному условию - это общая практика при анализе данных. Ваша задача - выполнить выборку данных по заданным условиям.\n",
    "\n",
    "1. Выберите строки, где значение в столбце 'age' превышает 50.\n",
    "Ожидаемый результат: DataFrame, содержащий только строки, в которых значение 'age' больше 50.\n"
   ],
   "metadata": {
    "id": "1GUy5PQ1y7_f"
   }
  },
  {
   "cell_type": "code",
   "source": [
    "df[df['age'] > 50]"
   ],
   "metadata": {
    "id": "Qu2MQrHCzeXd",
    "ExecuteTime": {
     "end_time": "2024-08-03T19:47:59.024118Z",
     "start_time": "2024-08-03T19:47:59.008300Z"
    }
   },
   "execution_count": 424,
   "outputs": [
    {
     "data": {
      "text/plain": "      gender   age  hypertension  heart_disease smoking_history  \\\n2       Male  62.0             0              0          former   \n4       Male  70.0             0              0         No Info   \n5     Female  73.0             0              0     not current   \n6       Male  71.0             0              0         current   \n7       Male  61.0             0              0         No Info   \n...      ...   ...           ...            ...             ...   \n1607    Male  79.0             0              0           never   \n1608  Female  80.0             0              0     not current   \n1609  Female  60.0             0              1          former   \n1612  Female  71.0             1              0           never   \n1613    Male  80.0             0              0     not current   \n\n      body_mass_index  HbA1c_level  blood_glucose_level  diabetes  \n2               26.60          3.5                  126         0  \n4               27.32          5.0                  158         0  \n5               19.00          6.2                  158         0  \n6               29.14          6.6                  126         0  \n7               24.64          5.0                  160         0  \n...               ...          ...                  ...       ...  \n1607            33.72          7.5                  260         1  \n1608            36.04          8.8                  260         1  \n1609            26.63          7.5                  160         1  \n1612            62.80          8.2                  155         1  \n1613            20.97          9.0                  240         1  \n\n[798 rows x 9 columns]",
      "text/html": "<div>\n<style scoped>\n    .dataframe tbody tr th:only-of-type {\n        vertical-align: middle;\n    }\n\n    .dataframe tbody tr th {\n        vertical-align: top;\n    }\n\n    .dataframe thead th {\n        text-align: right;\n    }\n</style>\n<table border=\"1\" class=\"dataframe\">\n  <thead>\n    <tr style=\"text-align: right;\">\n      <th></th>\n      <th>gender</th>\n      <th>age</th>\n      <th>hypertension</th>\n      <th>heart_disease</th>\n      <th>smoking_history</th>\n      <th>body_mass_index</th>\n      <th>HbA1c_level</th>\n      <th>blood_glucose_level</th>\n      <th>diabetes</th>\n    </tr>\n  </thead>\n  <tbody>\n    <tr>\n      <th>2</th>\n      <td>Male</td>\n      <td>62.0</td>\n      <td>0</td>\n      <td>0</td>\n      <td>former</td>\n      <td>26.60</td>\n      <td>3.5</td>\n      <td>126</td>\n      <td>0</td>\n    </tr>\n    <tr>\n      <th>4</th>\n      <td>Male</td>\n      <td>70.0</td>\n      <td>0</td>\n      <td>0</td>\n      <td>No Info</td>\n      <td>27.32</td>\n      <td>5.0</td>\n      <td>158</td>\n      <td>0</td>\n    </tr>\n    <tr>\n      <th>5</th>\n      <td>Female</td>\n      <td>73.0</td>\n      <td>0</td>\n      <td>0</td>\n      <td>not current</td>\n      <td>19.00</td>\n      <td>6.2</td>\n      <td>158</td>\n      <td>0</td>\n    </tr>\n    <tr>\n      <th>6</th>\n      <td>Male</td>\n      <td>71.0</td>\n      <td>0</td>\n      <td>0</td>\n      <td>current</td>\n      <td>29.14</td>\n      <td>6.6</td>\n      <td>126</td>\n      <td>0</td>\n    </tr>\n    <tr>\n      <th>7</th>\n      <td>Male</td>\n      <td>61.0</td>\n      <td>0</td>\n      <td>0</td>\n      <td>No Info</td>\n      <td>24.64</td>\n      <td>5.0</td>\n      <td>160</td>\n      <td>0</td>\n    </tr>\n    <tr>\n      <th>...</th>\n      <td>...</td>\n      <td>...</td>\n      <td>...</td>\n      <td>...</td>\n      <td>...</td>\n      <td>...</td>\n      <td>...</td>\n      <td>...</td>\n      <td>...</td>\n    </tr>\n    <tr>\n      <th>1607</th>\n      <td>Male</td>\n      <td>79.0</td>\n      <td>0</td>\n      <td>0</td>\n      <td>never</td>\n      <td>33.72</td>\n      <td>7.5</td>\n      <td>260</td>\n      <td>1</td>\n    </tr>\n    <tr>\n      <th>1608</th>\n      <td>Female</td>\n      <td>80.0</td>\n      <td>0</td>\n      <td>0</td>\n      <td>not current</td>\n      <td>36.04</td>\n      <td>8.8</td>\n      <td>260</td>\n      <td>1</td>\n    </tr>\n    <tr>\n      <th>1609</th>\n      <td>Female</td>\n      <td>60.0</td>\n      <td>0</td>\n      <td>1</td>\n      <td>former</td>\n      <td>26.63</td>\n      <td>7.5</td>\n      <td>160</td>\n      <td>1</td>\n    </tr>\n    <tr>\n      <th>1612</th>\n      <td>Female</td>\n      <td>71.0</td>\n      <td>1</td>\n      <td>0</td>\n      <td>never</td>\n      <td>62.80</td>\n      <td>8.2</td>\n      <td>155</td>\n      <td>1</td>\n    </tr>\n    <tr>\n      <th>1613</th>\n      <td>Male</td>\n      <td>80.0</td>\n      <td>0</td>\n      <td>0</td>\n      <td>not current</td>\n      <td>20.97</td>\n      <td>9.0</td>\n      <td>240</td>\n      <td>1</td>\n    </tr>\n  </tbody>\n</table>\n<p>798 rows × 9 columns</p>\n</div>"
     },
     "execution_count": 424,
     "metadata": {},
     "output_type": "execute_result"
    }
   ]
  },
  {
   "cell_type": "markdown",
   "source": [
    "2. Выберите строки, где значение 'smoking_history' равно 'current' и 'HbA1c_level' превышает 7.\n",
    "Ожидаемый результат: DataFrame, содержащий только строки, в которых 'smoking_history' равно 'current' и 'HbA1c_level' больше 7.\n"
   ],
   "metadata": {
    "id": "sIiShDLLzegO"
   }
  },
  {
   "cell_type": "code",
   "source": [
    "df[(df['smoking_history'] == 'current') & (df['HbA1c_level'] > 7)]"
   ],
   "metadata": {
    "id": "YS2N7IQdzgDh",
    "ExecuteTime": {
     "end_time": "2024-08-03T19:49:08.583628Z",
     "start_time": "2024-08-03T19:49:08.561549Z"
    }
   },
   "execution_count": 426,
   "outputs": [
    {
     "data": {
      "text/plain": "      gender   age  hypertension  heart_disease smoking_history  \\\n122     Male  43.0             0              0         current   \n220   Female  55.0             0              0         current   \n940     Male  56.0             0              0         current   \n1013    Male  56.0             0              0         current   \n1080    Male  55.0             0              0         current   \n1174    Male  56.0             0              0         current   \n1213  Female  54.0             0              0         current   \n1243  Female  51.0             0              0         current   \n1277  Female  51.0             0              0         current   \n1308  Female  54.0             0              0         current   \n1329    Male  52.0             0              0         current   \n1378    Male  44.0             0              0         current   \n1396    Male  48.0             0              1         current   \n1423  Female  57.0             1              1         current   \n1458    Male  42.0             1              0         current   \n1510  Female  70.0             0              0         current   \n1518    Male  77.0             1              0         current   \n1519  Female  53.0             0              0         current   \n1531  Female  45.0             0              0         current   \n1552  Female  78.0             1              0         current   \n\n      body_mass_index  HbA1c_level  blood_glucose_level  diabetes  \n122         32.730000          8.2                  220         1  \n220         38.950000          9.0                  160         1  \n940         27.320000          8.2                  145         1  \n1013        28.839155          9.0                  200         1  \n1080        49.030000          7.5                  140         1  \n1174        32.500000          9.0                  200         1  \n1213        37.830000          9.0                  140         1  \n1243        29.002344          9.0                  145         1  \n1277        37.730000          9.0                  160         1  \n1308        25.790000          9.0                  220         1  \n1329        30.170000          7.5                  126         1  \n1378        37.650000          7.5                  260         1  \n1396        31.920000          8.2                  126         1  \n1423        38.750000          9.0                  260         1  \n1458        32.700000          8.8                  300         1  \n1510        25.510000          7.5                  240         1  \n1518        24.960000          8.8                  240         1  \n1519        27.780000          9.0                  159         1  \n1531        57.020000          9.0                  130         1  \n1552        44.150000          8.2                  126         1  ",
      "text/html": "<div>\n<style scoped>\n    .dataframe tbody tr th:only-of-type {\n        vertical-align: middle;\n    }\n\n    .dataframe tbody tr th {\n        vertical-align: top;\n    }\n\n    .dataframe thead th {\n        text-align: right;\n    }\n</style>\n<table border=\"1\" class=\"dataframe\">\n  <thead>\n    <tr style=\"text-align: right;\">\n      <th></th>\n      <th>gender</th>\n      <th>age</th>\n      <th>hypertension</th>\n      <th>heart_disease</th>\n      <th>smoking_history</th>\n      <th>body_mass_index</th>\n      <th>HbA1c_level</th>\n      <th>blood_glucose_level</th>\n      <th>diabetes</th>\n    </tr>\n  </thead>\n  <tbody>\n    <tr>\n      <th>122</th>\n      <td>Male</td>\n      <td>43.0</td>\n      <td>0</td>\n      <td>0</td>\n      <td>current</td>\n      <td>32.730000</td>\n      <td>8.2</td>\n      <td>220</td>\n      <td>1</td>\n    </tr>\n    <tr>\n      <th>220</th>\n      <td>Female</td>\n      <td>55.0</td>\n      <td>0</td>\n      <td>0</td>\n      <td>current</td>\n      <td>38.950000</td>\n      <td>9.0</td>\n      <td>160</td>\n      <td>1</td>\n    </tr>\n    <tr>\n      <th>940</th>\n      <td>Male</td>\n      <td>56.0</td>\n      <td>0</td>\n      <td>0</td>\n      <td>current</td>\n      <td>27.320000</td>\n      <td>8.2</td>\n      <td>145</td>\n      <td>1</td>\n    </tr>\n    <tr>\n      <th>1013</th>\n      <td>Male</td>\n      <td>56.0</td>\n      <td>0</td>\n      <td>0</td>\n      <td>current</td>\n      <td>28.839155</td>\n      <td>9.0</td>\n      <td>200</td>\n      <td>1</td>\n    </tr>\n    <tr>\n      <th>1080</th>\n      <td>Male</td>\n      <td>55.0</td>\n      <td>0</td>\n      <td>0</td>\n      <td>current</td>\n      <td>49.030000</td>\n      <td>7.5</td>\n      <td>140</td>\n      <td>1</td>\n    </tr>\n    <tr>\n      <th>1174</th>\n      <td>Male</td>\n      <td>56.0</td>\n      <td>0</td>\n      <td>0</td>\n      <td>current</td>\n      <td>32.500000</td>\n      <td>9.0</td>\n      <td>200</td>\n      <td>1</td>\n    </tr>\n    <tr>\n      <th>1213</th>\n      <td>Female</td>\n      <td>54.0</td>\n      <td>0</td>\n      <td>0</td>\n      <td>current</td>\n      <td>37.830000</td>\n      <td>9.0</td>\n      <td>140</td>\n      <td>1</td>\n    </tr>\n    <tr>\n      <th>1243</th>\n      <td>Female</td>\n      <td>51.0</td>\n      <td>0</td>\n      <td>0</td>\n      <td>current</td>\n      <td>29.002344</td>\n      <td>9.0</td>\n      <td>145</td>\n      <td>1</td>\n    </tr>\n    <tr>\n      <th>1277</th>\n      <td>Female</td>\n      <td>51.0</td>\n      <td>0</td>\n      <td>0</td>\n      <td>current</td>\n      <td>37.730000</td>\n      <td>9.0</td>\n      <td>160</td>\n      <td>1</td>\n    </tr>\n    <tr>\n      <th>1308</th>\n      <td>Female</td>\n      <td>54.0</td>\n      <td>0</td>\n      <td>0</td>\n      <td>current</td>\n      <td>25.790000</td>\n      <td>9.0</td>\n      <td>220</td>\n      <td>1</td>\n    </tr>\n    <tr>\n      <th>1329</th>\n      <td>Male</td>\n      <td>52.0</td>\n      <td>0</td>\n      <td>0</td>\n      <td>current</td>\n      <td>30.170000</td>\n      <td>7.5</td>\n      <td>126</td>\n      <td>1</td>\n    </tr>\n    <tr>\n      <th>1378</th>\n      <td>Male</td>\n      <td>44.0</td>\n      <td>0</td>\n      <td>0</td>\n      <td>current</td>\n      <td>37.650000</td>\n      <td>7.5</td>\n      <td>260</td>\n      <td>1</td>\n    </tr>\n    <tr>\n      <th>1396</th>\n      <td>Male</td>\n      <td>48.0</td>\n      <td>0</td>\n      <td>1</td>\n      <td>current</td>\n      <td>31.920000</td>\n      <td>8.2</td>\n      <td>126</td>\n      <td>1</td>\n    </tr>\n    <tr>\n      <th>1423</th>\n      <td>Female</td>\n      <td>57.0</td>\n      <td>1</td>\n      <td>1</td>\n      <td>current</td>\n      <td>38.750000</td>\n      <td>9.0</td>\n      <td>260</td>\n      <td>1</td>\n    </tr>\n    <tr>\n      <th>1458</th>\n      <td>Male</td>\n      <td>42.0</td>\n      <td>1</td>\n      <td>0</td>\n      <td>current</td>\n      <td>32.700000</td>\n      <td>8.8</td>\n      <td>300</td>\n      <td>1</td>\n    </tr>\n    <tr>\n      <th>1510</th>\n      <td>Female</td>\n      <td>70.0</td>\n      <td>0</td>\n      <td>0</td>\n      <td>current</td>\n      <td>25.510000</td>\n      <td>7.5</td>\n      <td>240</td>\n      <td>1</td>\n    </tr>\n    <tr>\n      <th>1518</th>\n      <td>Male</td>\n      <td>77.0</td>\n      <td>1</td>\n      <td>0</td>\n      <td>current</td>\n      <td>24.960000</td>\n      <td>8.8</td>\n      <td>240</td>\n      <td>1</td>\n    </tr>\n    <tr>\n      <th>1519</th>\n      <td>Female</td>\n      <td>53.0</td>\n      <td>0</td>\n      <td>0</td>\n      <td>current</td>\n      <td>27.780000</td>\n      <td>9.0</td>\n      <td>159</td>\n      <td>1</td>\n    </tr>\n    <tr>\n      <th>1531</th>\n      <td>Female</td>\n      <td>45.0</td>\n      <td>0</td>\n      <td>0</td>\n      <td>current</td>\n      <td>57.020000</td>\n      <td>9.0</td>\n      <td>130</td>\n      <td>1</td>\n    </tr>\n    <tr>\n      <th>1552</th>\n      <td>Female</td>\n      <td>78.0</td>\n      <td>1</td>\n      <td>0</td>\n      <td>current</td>\n      <td>44.150000</td>\n      <td>8.2</td>\n      <td>126</td>\n      <td>1</td>\n    </tr>\n  </tbody>\n</table>\n</div>"
     },
     "execution_count": 426,
     "metadata": {},
     "output_type": "execute_result"
    }
   ]
  },
  {
   "cell_type": "markdown",
   "source": [
    "3. Выберите строки, где 'diabetes' равно 'Positive' и 'bmi' ниже 25.\n",
    "Ожидаемый результат: DataFrame, содержащий только строки, в которых 'diabetes' равно 'Positive' и 'bmi' меньше 25.\n"
   ],
   "metadata": {
    "id": "bly95tc2zgMR"
   }
  },
  {
   "cell_type": "code",
   "source": [
    "df[(df['diabetes'] == 'Possitive') & (df['body_mass_index'] < 25)]"
   ],
   "metadata": {
    "id": "Iuj-JWZHzhdw",
    "ExecuteTime": {
     "end_time": "2024-08-03T19:50:39.871370Z",
     "start_time": "2024-08-03T19:50:39.859428Z"
    }
   },
   "execution_count": 429,
   "outputs": [
    {
     "data": {
      "text/plain": "Empty DataFrame\nColumns: [gender, age, hypertension, heart_disease, smoking_history, body_mass_index, HbA1c_level, blood_glucose_level, diabetes]\nIndex: []",
      "text/html": "<div>\n<style scoped>\n    .dataframe tbody tr th:only-of-type {\n        vertical-align: middle;\n    }\n\n    .dataframe tbody tr th {\n        vertical-align: top;\n    }\n\n    .dataframe thead th {\n        text-align: right;\n    }\n</style>\n<table border=\"1\" class=\"dataframe\">\n  <thead>\n    <tr style=\"text-align: right;\">\n      <th></th>\n      <th>gender</th>\n      <th>age</th>\n      <th>hypertension</th>\n      <th>heart_disease</th>\n      <th>smoking_history</th>\n      <th>body_mass_index</th>\n      <th>HbA1c_level</th>\n      <th>blood_glucose_level</th>\n      <th>diabetes</th>\n    </tr>\n  </thead>\n  <tbody>\n  </tbody>\n</table>\n</div>"
     },
     "execution_count": 429,
     "metadata": {},
     "output_type": "execute_result"
    }
   ]
  },
  {
   "cell_type": "markdown",
   "source": [
    "4. Выберите строки, где 'gender' равно 'Female' и 'heart_disease' равно 1.\n",
    "Ожидаемый результат: DataFrame, содержащий только строки, в которых 'gender' равно 'Female' и 'heart_disease' равно 1."
   ],
   "metadata": {
    "id": "fdK9k60Gzhnh"
   }
  },
  {
   "cell_type": "code",
   "source": [
    "df[(df['gender'] == 'Female') & (df['heart_disease'] == 1)]"
   ],
   "metadata": {
    "id": "rOqrit-Sziix",
    "ExecuteTime": {
     "end_time": "2024-08-03T19:51:10.231661Z",
     "start_time": "2024-08-03T19:51:10.201162Z"
    }
   },
   "execution_count": 430,
   "outputs": [
    {
     "data": {
      "text/plain": "      gender   age  hypertension  heart_disease smoking_history  \\\n510   Female  58.0             0              1           never   \n552   Female  80.0             0              1           never   \n601   Female  65.0             0              1           never   \n720   Female  80.0             0              1           never   \n748   Female  79.0             0              1           never   \n791   Female  80.0             0              1           never   \n793   Female  80.0             0              1         No Info   \n868   Female  67.0             1              1         No Info   \n904   Female  80.0             0              1          former   \n920   Female  59.0             0              1     not current   \n928   Female  80.0             1              1         No Info   \n939   Female  80.0             0              1           never   \n1000  Female  70.0             0              1           never   \n1003  Female  80.0             1              1         No Info   \n1006  Female  70.0             1              1            ever   \n1020  Female  38.0             0              1         current   \n1070  Female  76.0             0              1          former   \n1073  Female  79.0             0              1          former   \n1231  Female  80.0             0              1           never   \n1253  Female  65.0             0              1          former   \n1278  Female  79.0             0              1           never   \n1311  Female  72.0             1              1          former   \n1325  Female  67.0             1              1          former   \n1353  Female  65.0             1              1           never   \n1365  Female  79.0             0              1          former   \n1409  Female  64.0             1              1          former   \n1412  Female  65.0             0              1           never   \n1423  Female  57.0             1              1         current   \n1435  Female  51.0             0              1         current   \n1446  Female  80.0             1              1           never   \n1486  Female  66.0             1              1           never   \n1556  Female  80.0             1              1          former   \n1574  Female  79.0             0              1         No Info   \n1575  Female  67.0             0              1          former   \n1581  Female  50.0             0              1         No Info   \n1590  Female  58.0             1              1          former   \n1591  Female  80.0             0              1           never   \n1601  Female  63.0             0              1           never   \n1609  Female  60.0             0              1          former   \n1610  Female  44.0             0              1         current   \n\n      body_mass_index  HbA1c_level  blood_glucose_level  diabetes  \n510         22.460000     6.500000                  160         1  \n552         25.590000     4.000000                  100         0  \n601         38.000000     5.800000                  155         0  \n720         19.600000     4.800000                  158         0  \n748         27.320000     6.600000                  100         0  \n791         31.220000     4.000000                  130         0  \n793         19.840000     6.600000                  126         0  \n868         22.920000     6.000000                  140         1  \n904         30.340000     6.200000                  140         0  \n920         32.500000     6.500000                  140         1  \n928         27.320000     5.700000                  159         1  \n939         35.910000     6.200000                  260         1  \n1000        27.320000     6.100000                  126         1  \n1003        27.320000     6.600000                  200         1  \n1006        31.940000     7.000000                  159         1  \n1020        29.130000     6.500000                  220         1  \n1070        30.360000     6.800000                  126         1  \n1073        32.000000     9.000000                  159         1  \n1231        43.120000     5.700000                  140         1  \n1253        24.010000     5.886402                  240         1  \n1278        29.002344     9.000000                  140         1  \n1311        29.400000     6.000000                  240         1  \n1325        33.870000     6.500000                  160         1  \n1353        25.370000     6.500000                  260         1  \n1365        27.320000     6.600000                  130         1  \n1409        35.980000     6.800000                  300         1  \n1412        31.320000     5.800000                  160         1  \n1423        38.750000     9.000000                  260         1  \n1435        28.870000     5.800000                  300         1  \n1446        24.890000     6.000000                  145         1  \n1486        45.710000     5.800000                  240         1  \n1556        27.320000     5.700000                  200         1  \n1574        30.970000     6.100000                  145         1  \n1575        37.730000     8.800000                  260         1  \n1581        37.250000     5.700000                  126         1  \n1590        43.260000     6.600000                  220         1  \n1591        27.050000     5.800000                  145         1  \n1601        40.130000     6.600000                  159         1  \n1609        26.630000     7.500000                  160         1  \n1610        34.350000     6.600000                  140         1  ",
      "text/html": "<div>\n<style scoped>\n    .dataframe tbody tr th:only-of-type {\n        vertical-align: middle;\n    }\n\n    .dataframe tbody tr th {\n        vertical-align: top;\n    }\n\n    .dataframe thead th {\n        text-align: right;\n    }\n</style>\n<table border=\"1\" class=\"dataframe\">\n  <thead>\n    <tr style=\"text-align: right;\">\n      <th></th>\n      <th>gender</th>\n      <th>age</th>\n      <th>hypertension</th>\n      <th>heart_disease</th>\n      <th>smoking_history</th>\n      <th>body_mass_index</th>\n      <th>HbA1c_level</th>\n      <th>blood_glucose_level</th>\n      <th>diabetes</th>\n    </tr>\n  </thead>\n  <tbody>\n    <tr>\n      <th>510</th>\n      <td>Female</td>\n      <td>58.0</td>\n      <td>0</td>\n      <td>1</td>\n      <td>never</td>\n      <td>22.460000</td>\n      <td>6.500000</td>\n      <td>160</td>\n      <td>1</td>\n    </tr>\n    <tr>\n      <th>552</th>\n      <td>Female</td>\n      <td>80.0</td>\n      <td>0</td>\n      <td>1</td>\n      <td>never</td>\n      <td>25.590000</td>\n      <td>4.000000</td>\n      <td>100</td>\n      <td>0</td>\n    </tr>\n    <tr>\n      <th>601</th>\n      <td>Female</td>\n      <td>65.0</td>\n      <td>0</td>\n      <td>1</td>\n      <td>never</td>\n      <td>38.000000</td>\n      <td>5.800000</td>\n      <td>155</td>\n      <td>0</td>\n    </tr>\n    <tr>\n      <th>720</th>\n      <td>Female</td>\n      <td>80.0</td>\n      <td>0</td>\n      <td>1</td>\n      <td>never</td>\n      <td>19.600000</td>\n      <td>4.800000</td>\n      <td>158</td>\n      <td>0</td>\n    </tr>\n    <tr>\n      <th>748</th>\n      <td>Female</td>\n      <td>79.0</td>\n      <td>0</td>\n      <td>1</td>\n      <td>never</td>\n      <td>27.320000</td>\n      <td>6.600000</td>\n      <td>100</td>\n      <td>0</td>\n    </tr>\n    <tr>\n      <th>791</th>\n      <td>Female</td>\n      <td>80.0</td>\n      <td>0</td>\n      <td>1</td>\n      <td>never</td>\n      <td>31.220000</td>\n      <td>4.000000</td>\n      <td>130</td>\n      <td>0</td>\n    </tr>\n    <tr>\n      <th>793</th>\n      <td>Female</td>\n      <td>80.0</td>\n      <td>0</td>\n      <td>1</td>\n      <td>No Info</td>\n      <td>19.840000</td>\n      <td>6.600000</td>\n      <td>126</td>\n      <td>0</td>\n    </tr>\n    <tr>\n      <th>868</th>\n      <td>Female</td>\n      <td>67.0</td>\n      <td>1</td>\n      <td>1</td>\n      <td>No Info</td>\n      <td>22.920000</td>\n      <td>6.000000</td>\n      <td>140</td>\n      <td>1</td>\n    </tr>\n    <tr>\n      <th>904</th>\n      <td>Female</td>\n      <td>80.0</td>\n      <td>0</td>\n      <td>1</td>\n      <td>former</td>\n      <td>30.340000</td>\n      <td>6.200000</td>\n      <td>140</td>\n      <td>0</td>\n    </tr>\n    <tr>\n      <th>920</th>\n      <td>Female</td>\n      <td>59.0</td>\n      <td>0</td>\n      <td>1</td>\n      <td>not current</td>\n      <td>32.500000</td>\n      <td>6.500000</td>\n      <td>140</td>\n      <td>1</td>\n    </tr>\n    <tr>\n      <th>928</th>\n      <td>Female</td>\n      <td>80.0</td>\n      <td>1</td>\n      <td>1</td>\n      <td>No Info</td>\n      <td>27.320000</td>\n      <td>5.700000</td>\n      <td>159</td>\n      <td>1</td>\n    </tr>\n    <tr>\n      <th>939</th>\n      <td>Female</td>\n      <td>80.0</td>\n      <td>0</td>\n      <td>1</td>\n      <td>never</td>\n      <td>35.910000</td>\n      <td>6.200000</td>\n      <td>260</td>\n      <td>1</td>\n    </tr>\n    <tr>\n      <th>1000</th>\n      <td>Female</td>\n      <td>70.0</td>\n      <td>0</td>\n      <td>1</td>\n      <td>never</td>\n      <td>27.320000</td>\n      <td>6.100000</td>\n      <td>126</td>\n      <td>1</td>\n    </tr>\n    <tr>\n      <th>1003</th>\n      <td>Female</td>\n      <td>80.0</td>\n      <td>1</td>\n      <td>1</td>\n      <td>No Info</td>\n      <td>27.320000</td>\n      <td>6.600000</td>\n      <td>200</td>\n      <td>1</td>\n    </tr>\n    <tr>\n      <th>1006</th>\n      <td>Female</td>\n      <td>70.0</td>\n      <td>1</td>\n      <td>1</td>\n      <td>ever</td>\n      <td>31.940000</td>\n      <td>7.000000</td>\n      <td>159</td>\n      <td>1</td>\n    </tr>\n    <tr>\n      <th>1020</th>\n      <td>Female</td>\n      <td>38.0</td>\n      <td>0</td>\n      <td>1</td>\n      <td>current</td>\n      <td>29.130000</td>\n      <td>6.500000</td>\n      <td>220</td>\n      <td>1</td>\n    </tr>\n    <tr>\n      <th>1070</th>\n      <td>Female</td>\n      <td>76.0</td>\n      <td>0</td>\n      <td>1</td>\n      <td>former</td>\n      <td>30.360000</td>\n      <td>6.800000</td>\n      <td>126</td>\n      <td>1</td>\n    </tr>\n    <tr>\n      <th>1073</th>\n      <td>Female</td>\n      <td>79.0</td>\n      <td>0</td>\n      <td>1</td>\n      <td>former</td>\n      <td>32.000000</td>\n      <td>9.000000</td>\n      <td>159</td>\n      <td>1</td>\n    </tr>\n    <tr>\n      <th>1231</th>\n      <td>Female</td>\n      <td>80.0</td>\n      <td>0</td>\n      <td>1</td>\n      <td>never</td>\n      <td>43.120000</td>\n      <td>5.700000</td>\n      <td>140</td>\n      <td>1</td>\n    </tr>\n    <tr>\n      <th>1253</th>\n      <td>Female</td>\n      <td>65.0</td>\n      <td>0</td>\n      <td>1</td>\n      <td>former</td>\n      <td>24.010000</td>\n      <td>5.886402</td>\n      <td>240</td>\n      <td>1</td>\n    </tr>\n    <tr>\n      <th>1278</th>\n      <td>Female</td>\n      <td>79.0</td>\n      <td>0</td>\n      <td>1</td>\n      <td>never</td>\n      <td>29.002344</td>\n      <td>9.000000</td>\n      <td>140</td>\n      <td>1</td>\n    </tr>\n    <tr>\n      <th>1311</th>\n      <td>Female</td>\n      <td>72.0</td>\n      <td>1</td>\n      <td>1</td>\n      <td>former</td>\n      <td>29.400000</td>\n      <td>6.000000</td>\n      <td>240</td>\n      <td>1</td>\n    </tr>\n    <tr>\n      <th>1325</th>\n      <td>Female</td>\n      <td>67.0</td>\n      <td>1</td>\n      <td>1</td>\n      <td>former</td>\n      <td>33.870000</td>\n      <td>6.500000</td>\n      <td>160</td>\n      <td>1</td>\n    </tr>\n    <tr>\n      <th>1353</th>\n      <td>Female</td>\n      <td>65.0</td>\n      <td>1</td>\n      <td>1</td>\n      <td>never</td>\n      <td>25.370000</td>\n      <td>6.500000</td>\n      <td>260</td>\n      <td>1</td>\n    </tr>\n    <tr>\n      <th>1365</th>\n      <td>Female</td>\n      <td>79.0</td>\n      <td>0</td>\n      <td>1</td>\n      <td>former</td>\n      <td>27.320000</td>\n      <td>6.600000</td>\n      <td>130</td>\n      <td>1</td>\n    </tr>\n    <tr>\n      <th>1409</th>\n      <td>Female</td>\n      <td>64.0</td>\n      <td>1</td>\n      <td>1</td>\n      <td>former</td>\n      <td>35.980000</td>\n      <td>6.800000</td>\n      <td>300</td>\n      <td>1</td>\n    </tr>\n    <tr>\n      <th>1412</th>\n      <td>Female</td>\n      <td>65.0</td>\n      <td>0</td>\n      <td>1</td>\n      <td>never</td>\n      <td>31.320000</td>\n      <td>5.800000</td>\n      <td>160</td>\n      <td>1</td>\n    </tr>\n    <tr>\n      <th>1423</th>\n      <td>Female</td>\n      <td>57.0</td>\n      <td>1</td>\n      <td>1</td>\n      <td>current</td>\n      <td>38.750000</td>\n      <td>9.000000</td>\n      <td>260</td>\n      <td>1</td>\n    </tr>\n    <tr>\n      <th>1435</th>\n      <td>Female</td>\n      <td>51.0</td>\n      <td>0</td>\n      <td>1</td>\n      <td>current</td>\n      <td>28.870000</td>\n      <td>5.800000</td>\n      <td>300</td>\n      <td>1</td>\n    </tr>\n    <tr>\n      <th>1446</th>\n      <td>Female</td>\n      <td>80.0</td>\n      <td>1</td>\n      <td>1</td>\n      <td>never</td>\n      <td>24.890000</td>\n      <td>6.000000</td>\n      <td>145</td>\n      <td>1</td>\n    </tr>\n    <tr>\n      <th>1486</th>\n      <td>Female</td>\n      <td>66.0</td>\n      <td>1</td>\n      <td>1</td>\n      <td>never</td>\n      <td>45.710000</td>\n      <td>5.800000</td>\n      <td>240</td>\n      <td>1</td>\n    </tr>\n    <tr>\n      <th>1556</th>\n      <td>Female</td>\n      <td>80.0</td>\n      <td>1</td>\n      <td>1</td>\n      <td>former</td>\n      <td>27.320000</td>\n      <td>5.700000</td>\n      <td>200</td>\n      <td>1</td>\n    </tr>\n    <tr>\n      <th>1574</th>\n      <td>Female</td>\n      <td>79.0</td>\n      <td>0</td>\n      <td>1</td>\n      <td>No Info</td>\n      <td>30.970000</td>\n      <td>6.100000</td>\n      <td>145</td>\n      <td>1</td>\n    </tr>\n    <tr>\n      <th>1575</th>\n      <td>Female</td>\n      <td>67.0</td>\n      <td>0</td>\n      <td>1</td>\n      <td>former</td>\n      <td>37.730000</td>\n      <td>8.800000</td>\n      <td>260</td>\n      <td>1</td>\n    </tr>\n    <tr>\n      <th>1581</th>\n      <td>Female</td>\n      <td>50.0</td>\n      <td>0</td>\n      <td>1</td>\n      <td>No Info</td>\n      <td>37.250000</td>\n      <td>5.700000</td>\n      <td>126</td>\n      <td>1</td>\n    </tr>\n    <tr>\n      <th>1590</th>\n      <td>Female</td>\n      <td>58.0</td>\n      <td>1</td>\n      <td>1</td>\n      <td>former</td>\n      <td>43.260000</td>\n      <td>6.600000</td>\n      <td>220</td>\n      <td>1</td>\n    </tr>\n    <tr>\n      <th>1591</th>\n      <td>Female</td>\n      <td>80.0</td>\n      <td>0</td>\n      <td>1</td>\n      <td>never</td>\n      <td>27.050000</td>\n      <td>5.800000</td>\n      <td>145</td>\n      <td>1</td>\n    </tr>\n    <tr>\n      <th>1601</th>\n      <td>Female</td>\n      <td>63.0</td>\n      <td>0</td>\n      <td>1</td>\n      <td>never</td>\n      <td>40.130000</td>\n      <td>6.600000</td>\n      <td>159</td>\n      <td>1</td>\n    </tr>\n    <tr>\n      <th>1609</th>\n      <td>Female</td>\n      <td>60.0</td>\n      <td>0</td>\n      <td>1</td>\n      <td>former</td>\n      <td>26.630000</td>\n      <td>7.500000</td>\n      <td>160</td>\n      <td>1</td>\n    </tr>\n    <tr>\n      <th>1610</th>\n      <td>Female</td>\n      <td>44.0</td>\n      <td>0</td>\n      <td>1</td>\n      <td>current</td>\n      <td>34.350000</td>\n      <td>6.600000</td>\n      <td>140</td>\n      <td>1</td>\n    </tr>\n  </tbody>\n</table>\n</div>"
     },
     "execution_count": 430,
     "metadata": {},
     "output_type": "execute_result"
    }
   ]
  },
  {
   "cell_type": "markdown",
   "source": [
    "5. Выберите строки, где 'diabetes' равно 'Positive' ИЛИ 'hypertension' равно 1.\n",
    "Ожидаемый результат: DataFrame, содержащий только строки, в которых 'diabetes' равно 'Positive' или 'hypertension' равно 1. Это значит, что в выборку попадут строки, удовлетворяющие хотя бы одному из этих условий."
   ],
   "metadata": {
    "id": "OxNddbRkz1Cl"
   }
  },
  {
   "cell_type": "code",
   "source": [
    "df[(df['diabetes'] == 'Positive') | (df['hypertension'] == 1)]"
   ],
   "metadata": {
    "id": "luboWGZ4z7Wy",
    "ExecuteTime": {
     "end_time": "2024-08-03T19:43:35.041020Z",
     "start_time": "2024-08-03T19:43:35.039630Z"
    }
   },
   "execution_count": 404,
   "outputs": []
  },
  {
   "cell_type": "markdown",
   "source": [
    "# Бонусное задание: Комплексные условия выборки данных\n",
    "\n",
    "Если вы готовы пойти дальше, попробуйте сформировать более сложное условие для выборки данных. Это поможет вам лучше понять, как работать с условными операторами в pandas.\n",
    "\n",
    "Выберите строки, где 'age' превышает 40, 'hypertension' равно 1, ИЛИ 'diabetes' равно 'Positive' и 'bmi' ниже 30.\n",
    "Ожидаемый результат: DataFrame, содержащий только строки, которые удовлетворяют указанному условию. Обратите внимание, что из-за использования оператора \"ИЛИ\" строки могут удовлетворять либо первой части условия ('age' больше 40 и 'hypertension' равно 1), либо второй ('diabetes' равно 'Positive' и 'bmi' меньше 30)."
   ],
   "metadata": {
    "id": "5R-epsz00G8C"
   }
  },
  {
   "cell_type": "code",
   "source": [
    "df[(df['age'] > 40) & (df['hypertension'] == 1) | (df['diabetes'] == 'Positive') & (df['body_mass_index'] < 30)]"
   ],
   "metadata": {
    "id": "pTC948Ry0KPX",
    "ExecuteTime": {
     "end_time": "2024-08-03T19:53:10.186180Z",
     "start_time": "2024-08-03T19:53:10.169029Z"
    }
   },
   "execution_count": 432,
   "outputs": [
    {
     "data": {
      "text/plain": "      gender   age  hypertension  heart_disease smoking_history  \\\n12      Male  76.0             1              0          former   \n23      Male  79.0             1              0     not current   \n24    Female  69.0             1              0          former   \n26      Male  67.0             1              0           never   \n63    Female  67.0             1              0          former   \n...      ...   ...           ...            ...             ...   \n1576    Male  68.0             1              0          former   \n1580    Male  53.0             1              0     not current   \n1590  Female  58.0             1              1          former   \n1594    Male  51.0             1              0           never   \n1612  Female  71.0             1              0           never   \n\n      body_mass_index  HbA1c_level  blood_glucose_level  diabetes  \n12          27.040000          5.8                  160         0  \n23          35.800000          5.8                  200         0  \n24          23.650000          4.8                  140         0  \n26          25.190000          4.0                  159         0  \n63          31.210000          6.0                  160         0  \n...               ...          ...                  ...       ...  \n1576        36.370000          7.5                  160         1  \n1580        26.650000          8.8                  220         1  \n1590        43.260000          6.6                  220         1  \n1594        28.839155          7.0                  145         1  \n1612        62.800000          8.2                  155         1  \n\n[191 rows x 9 columns]",
      "text/html": "<div>\n<style scoped>\n    .dataframe tbody tr th:only-of-type {\n        vertical-align: middle;\n    }\n\n    .dataframe tbody tr th {\n        vertical-align: top;\n    }\n\n    .dataframe thead th {\n        text-align: right;\n    }\n</style>\n<table border=\"1\" class=\"dataframe\">\n  <thead>\n    <tr style=\"text-align: right;\">\n      <th></th>\n      <th>gender</th>\n      <th>age</th>\n      <th>hypertension</th>\n      <th>heart_disease</th>\n      <th>smoking_history</th>\n      <th>body_mass_index</th>\n      <th>HbA1c_level</th>\n      <th>blood_glucose_level</th>\n      <th>diabetes</th>\n    </tr>\n  </thead>\n  <tbody>\n    <tr>\n      <th>12</th>\n      <td>Male</td>\n      <td>76.0</td>\n      <td>1</td>\n      <td>0</td>\n      <td>former</td>\n      <td>27.040000</td>\n      <td>5.8</td>\n      <td>160</td>\n      <td>0</td>\n    </tr>\n    <tr>\n      <th>23</th>\n      <td>Male</td>\n      <td>79.0</td>\n      <td>1</td>\n      <td>0</td>\n      <td>not current</td>\n      <td>35.800000</td>\n      <td>5.8</td>\n      <td>200</td>\n      <td>0</td>\n    </tr>\n    <tr>\n      <th>24</th>\n      <td>Female</td>\n      <td>69.0</td>\n      <td>1</td>\n      <td>0</td>\n      <td>former</td>\n      <td>23.650000</td>\n      <td>4.8</td>\n      <td>140</td>\n      <td>0</td>\n    </tr>\n    <tr>\n      <th>26</th>\n      <td>Male</td>\n      <td>67.0</td>\n      <td>1</td>\n      <td>0</td>\n      <td>never</td>\n      <td>25.190000</td>\n      <td>4.0</td>\n      <td>159</td>\n      <td>0</td>\n    </tr>\n    <tr>\n      <th>63</th>\n      <td>Female</td>\n      <td>67.0</td>\n      <td>1</td>\n      <td>0</td>\n      <td>former</td>\n      <td>31.210000</td>\n      <td>6.0</td>\n      <td>160</td>\n      <td>0</td>\n    </tr>\n    <tr>\n      <th>...</th>\n      <td>...</td>\n      <td>...</td>\n      <td>...</td>\n      <td>...</td>\n      <td>...</td>\n      <td>...</td>\n      <td>...</td>\n      <td>...</td>\n      <td>...</td>\n    </tr>\n    <tr>\n      <th>1576</th>\n      <td>Male</td>\n      <td>68.0</td>\n      <td>1</td>\n      <td>0</td>\n      <td>former</td>\n      <td>36.370000</td>\n      <td>7.5</td>\n      <td>160</td>\n      <td>1</td>\n    </tr>\n    <tr>\n      <th>1580</th>\n      <td>Male</td>\n      <td>53.0</td>\n      <td>1</td>\n      <td>0</td>\n      <td>not current</td>\n      <td>26.650000</td>\n      <td>8.8</td>\n      <td>220</td>\n      <td>1</td>\n    </tr>\n    <tr>\n      <th>1590</th>\n      <td>Female</td>\n      <td>58.0</td>\n      <td>1</td>\n      <td>1</td>\n      <td>former</td>\n      <td>43.260000</td>\n      <td>6.6</td>\n      <td>220</td>\n      <td>1</td>\n    </tr>\n    <tr>\n      <th>1594</th>\n      <td>Male</td>\n      <td>51.0</td>\n      <td>1</td>\n      <td>0</td>\n      <td>never</td>\n      <td>28.839155</td>\n      <td>7.0</td>\n      <td>145</td>\n      <td>1</td>\n    </tr>\n    <tr>\n      <th>1612</th>\n      <td>Female</td>\n      <td>71.0</td>\n      <td>1</td>\n      <td>0</td>\n      <td>never</td>\n      <td>62.800000</td>\n      <td>8.2</td>\n      <td>155</td>\n      <td>1</td>\n    </tr>\n  </tbody>\n</table>\n<p>191 rows × 9 columns</p>\n</div>"
     },
     "execution_count": 432,
     "metadata": {},
     "output_type": "execute_result"
    }
   ]
  },
  {
   "cell_type": "markdown",
   "source": [
    "# Задача 10: Создание нового столбца с помощью .apply()\n",
    "\n",
    "Функция `.apply()` позволяет применять функцию к каждому элементу столбца. Ваша задача - создать новый столбец в DataFrame, используя эту функцию.\n",
    "\n",
    "1. Разработайте функцию, которая преобразует значение в одном из столбцов. Например, вы можете создать функцию, которая классифицирует уровень 'HbA1c_level' как 'high', 'medium' или 'low' в зависимости от его значения.\n",
    "\n",
    "2. Примените эту функцию к соответствующему столбцу с использованием `.apply()` и создайте новый столбец с полученными результатами.\n",
    "\n",
    "3. Проверьте корректность выполнения задачи, отобразив первые несколько строк DataFrame с новым столбцом.\n",
    "\n",
    "Ожидаемый результат: DataFrame с новым столбцом, значения в котором получены с помощью применения функции к существующему столбцу."
   ],
   "metadata": {
    "id": "c34honkJ0lcR"
   }
  },
  {
   "cell_type": "code",
   "source": [
    "def classify_HbA1c_level(HbA1c_level):\n",
    "    if HbA1c_level < 5:\n",
    "        return 'low'\n",
    "    elif HbA1c_level >= 5 and HbA1c_level <= 7:\n",
    "        return 'medium'\n",
    "    else:\n",
    "        return 'high'\n",
    "\n",
    "df['HbA1c_level_category'] = df['HbA1c_level'].apply(classify_HbA1c_level)\n",
    "classify_HbA1c_level(7.5)\n"
   ],
   "metadata": {
    "id": "FX2Q219H0tAu",
    "ExecuteTime": {
     "end_time": "2024-08-03T19:55:03.828427Z",
     "start_time": "2024-08-03T19:55:03.820808Z"
    }
   },
   "execution_count": 434,
   "outputs": [
    {
     "data": {
      "text/plain": "'high'"
     },
     "execution_count": 434,
     "metadata": {},
     "output_type": "execute_result"
    }
   ]
  },
  {
   "cell_type": "markdown",
   "source": [
    "# Задача 11: Визуализация данных с использованием matplotlib.pyplot\n",
    "\n",
    "Визуализация данных является ключевой частью EDA, поскольку она позволяет наглядно представить и анализировать распределения и зависимости. Ваша задача - использовать библиотеку matplotlib.pyplot для визуализации данных."
   ],
   "metadata": {
    "id": "qZfn-0sM2cuB"
   }
  },
  {
   "cell_type": "markdown",
   "source": [
    "Создайте гистограмму для столбца 'age' для анализа распределения возраста пациентов.\n",
    "Ожидаемый результат: Гистограмма, показывающая распределение возраста пациентов."
   ],
   "metadata": {
    "id": "9fwOe4da2hJt"
   }
  },
  {
   "cell_type": "code",
   "source": [
    "plt.hist(df['age'], bins=10, color='skyblue', edgecolor='black')"
   ],
   "metadata": {
    "id": "GxeLprCm2ix2",
    "ExecuteTime": {
     "end_time": "2024-08-03T19:55:58.979929Z",
     "start_time": "2024-08-03T19:55:58.854924Z"
    }
   },
   "execution_count": 435,
   "outputs": [
    {
     "data": {
      "text/plain": "(array([ 76.,  68., 102., 121., 141., 158., 230., 206., 192., 217.]),\n array([ 0.16 ,  8.144, 16.128, 24.112, 32.096, 40.08 , 48.064, 56.048,\n        64.032, 72.016, 80.   ]),\n <BarContainer object of 10 artists>)"
     },
     "execution_count": 435,
     "metadata": {},
     "output_type": "execute_result"
    },
    {
     "data": {
      "text/plain": "<Figure size 640x480 with 1 Axes>",
      "image/png": "[encoded data removed]"
     },
     "metadata": {},
     "output_type": "display_data"
    }
   ]
  },
  {
   "cell_type": "markdown",
   "source": [
    "Создайте столбчатую диаграмму (bar plot), которая показывает количество пациентов с положительным и отрицательным статусом диабета.\n",
    "Ожидаемый результат: Столбчатая диаграмма, показывающая количество пациентов с положительным и отрицательным статусом диабета."
   ],
   "metadata": {
    "id": "2XnvDanb2kLM"
   }
  },
  {
   "cell_type": "code",
   "source": [
    "df['diabetes'].value_counts().plot(kind='bar')"
   ],
   "metadata": {
    "id": "ZuP0Gzv32mV8",
    "ExecuteTime": {
     "end_time": "2024-08-03T19:57:36.667221Z",
     "start_time": "2024-08-03T19:57:36.570709Z"
    }
   },
   "execution_count": 438,
   "outputs": [
    {
     "data": {
      "text/plain": "<Axes: xlabel='diabetes'>"
     },
     "execution_count": 438,
     "metadata": {},
     "output_type": "execute_result"
    },
    {
     "data": {
      "text/plain": "<Figure size 640x480 with 1 Axes>",
      "image/png": "[encoded data removed]"
     },
     "metadata": {},
     "output_type": "display_data"
    }
   ]
  },
  {
   "cell_type": "markdown",
   "source": [
    "Создайте scatter plot, на котором будет отображена зависимость между 'bmi' и 'blood_glucose_level'.\n",
    "Ожидаемый результат: Scatter plot, показывающий зависимость между индексом массы тела и уровнем глюкозы в крови."
   ],
   "metadata": {
    "id": "ugVDJ8TX2mb8"
   }
  },
  {
   "cell_type": "code",
   "source": [
    "plt.scatter(df['body_mass_index'], df['blood_glucose_level'], color='red')"
   ],
   "metadata": {
    "id": "GukdBPes2siD",
    "ExecuteTime": {
     "end_time": "2024-08-03T19:58:09.921716Z",
     "start_time": "2024-08-03T19:58:09.818188Z"
    }
   },
   "execution_count": 439,
   "outputs": [
    {
     "data": {
      "text/plain": "<matplotlib.collections.PathCollection at 0x1575394f0>"
     },
     "execution_count": 439,
     "metadata": {},
     "output_type": "execute_result"
    },
    {
     "data": {
      "text/plain": "<Figure size 640x480 with 1 Axes>",
      "image/png": "[encoded data removed]"
     },
     "metadata": {},
     "output_type": "display_data"
    }
   ]
  },
  {
   "cell_type": "markdown",
   "source": [
    "Создайте boxplot для столбца 'HbA1c_level' для анализа распределения этого показателя.\n",
    "Ожидаемый результат: Boxplot, показывающий распределение уровня гликированного гемоглобина.\n",
    "\n",
    "При выполнении этой задачи помните о необходимости правильного оформления графиков: наличие заголовка, подписей осей и легенды (если необходимо)."
   ],
   "metadata": {
    "id": "AdntA8Ui2oW2"
   }
  },
  {
   "cell_type": "code",
   "source": [
    "plt.boxplot(df['HbA1c_level'])"
   ],
   "metadata": {
    "id": "sjiFIJDG2t_J",
    "ExecuteTime": {
     "end_time": "2024-08-03T19:58:29.377169Z",
     "start_time": "2024-08-03T19:58:29.305648Z"
    }
   },
   "execution_count": 440,
   "outputs": [
    {
     "data": {
      "text/plain": "{'whiskers': [<matplotlib.lines.Line2D at 0x157ce8170>,\n  <matplotlib.lines.Line2D at 0x157ce8470>],\n 'caps': [<matplotlib.lines.Line2D at 0x157ce8770>,\n  <matplotlib.lines.Line2D at 0x157ce8a70>],\n 'boxes': [<matplotlib.lines.Line2D at 0x157cbf3b0>],\n 'medians': [<matplotlib.lines.Line2D at 0x157ce8ce0>],\n 'fliers': [<matplotlib.lines.Line2D at 0x157ce8f80>],\n 'means': []}"
     },
     "execution_count": 440,
     "metadata": {},
     "output_type": "execute_result"
    },
    {
     "data": {
      "text/plain": "<Figure size 640x480 with 1 Axes>",
      "image/png": "[encoded data removed]"
     },
     "metadata": {},
     "output_type": "display_data"
    }
   ]
  },
  {
   "cell_type": "markdown",
   "source": [
    "# Boxplot для данных, сгруппированных по столбцу 'diabetes'\n",
    "\n",
    "Boxplot - удобный инструмент для анализа распределения данных и их вариабельности в разных группах. Ваша задача - создать boxplot для одного из признаков, сгруппированных по статусу диабета."
   ],
   "metadata": {
    "id": "fmtK9SU92yuZ"
   }
  },
  {
   "cell_type": "markdown",
   "source": [
    "Создайте boxplot для столбца 'bmi', сгруппированного по столбцу 'diabetes'. Это позволит вам сравнить распределение индекса массы тела среди пациентов с положительным и отрицательным статусом диабета.\n",
    "Ожидаемый результат: Boxplot, показывающий распределение индекса массы тела в двух группах: среди пациентов с положительным и отрицательным статусом диабета."
   ],
   "metadata": {
    "id": "CEDkwOAs23VE"
   }
  },
  {
   "cell_type": "code",
   "source": [
    "# место для ответа\n"
   ],
   "metadata": {
    "id": "fDf_BRiz23s4",
    "ExecuteTime": {
     "end_time": "2024-08-03T19:43:35.470855Z",
     "start_time": "2024-08-03T19:43:35.469324Z"
    }
   },
   "execution_count": 411,
   "outputs": []
  },
  {
   "cell_type": "markdown",
   "source": [
    "Создайте boxplot для столбца 'age', сгруппированного по столбцу 'diabetes'. Это позволит вам сравнить распределение возраста среди пациентов с положительным и отрицательным статусом диабета.\n",
    "Ожидаемый результат: Boxplot, показывающий распределение возраста в двух группах: среди пациентов с положительным и отрицательным статусом диабета.\n",
    "\n",
    "Не забывайте о необходимости правильного оформления графиков: наличие заголовка, подписей осей и легенды."
   ],
   "metadata": {
    "id": "kALGqwSE26QM"
   }
  },
  {
   "cell_type": "code",
   "source": [
    "# место для ответа\n"
   ],
   "metadata": {
    "id": "bA33HS3u26sq",
    "ExecuteTime": {
     "end_time": "2024-08-03T19:43:35.516699Z",
     "start_time": "2024-08-03T19:43:35.515139Z"
    }
   },
   "execution_count": 412,
   "outputs": []
  },
  {
   "cell_type": "markdown",
   "source": [
    "# Задача 12: Визуализация данных с использованием Seaborn\n",
    "\n",
    "Seaborn - это библиотека визуализации данных в Python, основанная на matplotlib, которая предоставляет высокоуровневый интерфейс для создания привлекательных и информативных графических изображений. Ваша задача - использовать Seaborn для визуализации данных."
   ],
   "metadata": {
    "id": "XfWCy_Sk65Lk"
   }
  },
  {
   "cell_type": "markdown",
   "source": [
    "Создайте в Seaborn гистограмму (distplot) для столбца 'bmi' для анализа его распределения.\n",
    "Ожидаемый результат: Гистограмма, показывающая распределение значений 'bmi'."
   ],
   "metadata": {
    "id": "F0YP_MKF68g8"
   }
  },
  {
   "cell_type": "code",
   "source": [
    "sns.distplot(df['body_mass_index'])"
   ],
   "metadata": {
    "id": "7iOdctmN6834",
    "ExecuteTime": {
     "end_time": "2024-08-03T20:00:41.013173Z",
     "start_time": "2024-08-03T20:00:40.875450Z"
    }
   },
   "execution_count": 443,
   "outputs": [
    {
     "name": "stderr",
     "output_type": "stream",
     "text": [
      "/var/folders/76/c903q8td3w50tf5fnhn6lw3c0000gn/T/ipykernel_43721/431653627.py:1: UserWarning: \n",
      "\n",
      "`distplot` is a deprecated function and will be removed in seaborn v0.14.0.\n",
      "\n",
      "Please adapt your code to use either `displot` (a figure-level function with\n",
      "similar flexibility) or `histplot` (an axes-level function for histograms).\n",
      "\n",
      "For a guide to updating your code to use the new functions, please see\n",
      "https://gist.github.com/mwaskom/de44147ed2974457ad6372750bbe5751\n",
      "\n",
      "  sns.distplot(df['body_mass_index'])\n"
     ]
    },
    {
     "data": {
      "text/plain": "<Axes: xlabel='body_mass_index', ylabel='Density'>"
     },
     "execution_count": 443,
     "metadata": {},
     "output_type": "execute_result"
    },
    {
     "data": {
      "text/plain": "<Figure size 640x480 with 1 Axes>",
      "image/png": "[encoded data removed]"
     },
     "metadata": {},
     "output_type": "display_data"
    }
   ]
  },
  {
   "cell_type": "markdown",
   "source": [
    "Создайте в Seaborn парный график (pairplot) для всего набора данных или его части (например, для определенных столбцов), чтобы увидеть парные взаимосвязи между признаками.\n",
    "Ожидаемый результат: Pairplot, отображающий парные взаимосвязи между выбранными признаками."
   ],
   "metadata": {
    "id": "GSamzKOt68-e"
   }
  },
  {
   "cell_type": "code",
   "source": [
    "sns.pairplot(df[['age', 'diabetes']])"
   ],
   "metadata": {
    "id": "I5Ao21m56-hh",
    "ExecuteTime": {
     "end_time": "2024-08-03T20:02:16.656268Z",
     "start_time": "2024-08-03T20:02:16.082021Z"
    }
   },
   "execution_count": 447,
   "outputs": [
    {
     "data": {
      "text/plain": "<seaborn.axisgrid.PairGrid at 0x138350080>"
     },
     "execution_count": 447,
     "metadata": {},
     "output_type": "execute_result"
    },
    {
     "data": {
      "text/plain": "<Figure size 500x500 with 6 Axes>",
      "image/png": "[encoded data removed]"
     },
     "metadata": {},
     "output_type": "display_data"
    }
   ]
  },
  {
   "cell_type": "markdown",
   "source": [
    "Создайте в Seaborn boxplot (boxplot) для столбца 'HbA1c_level', сгруппированного по столбцу 'diabetes'. Это позволит вам сравнить распределение уровня HbA1c среди пациентов с положительным и отрицательным статусом диабета.\n",
    "Ожидаемый результат: Boxplot, показывающий распределение 'HbA1c_level' в двух группах: среди пациентов с положительным и отрицательным статусом диабета.\n",
    "\n",
    "При выполнении этой задачи помните о необходимости правильного оформления графиков: наличие заголовка, подписей осей и легенды (если необходимо)."
   ],
   "metadata": {
    "id": "Ab01DBM_7Apw"
   }
  },
  {
   "cell_type": "code",
   "source": [
    "sns.boxplot(x='diabetes', y='HbA1c_level', data=df)\n"
   ],
   "metadata": {
    "id": "pDhxaUfh7CvQ",
    "ExecuteTime": {
     "end_time": "2024-08-03T20:02:51.036716Z",
     "start_time": "2024-08-03T20:02:50.910891Z"
    }
   },
   "execution_count": 448,
   "outputs": [
    {
     "data": {
      "text/plain": "<Axes: xlabel='diabetes', ylabel='HbA1c_level'>"
     },
     "execution_count": 448,
     "metadata": {},
     "output_type": "execute_result"
    },
    {
     "data": {
      "text/plain": "<Figure size 640x480 with 1 Axes>",
      "image/png": "[encoded data removed]"
     },
     "metadata": {},
     "output_type": "display_data"
    }
   ]
  }
 ]
}
